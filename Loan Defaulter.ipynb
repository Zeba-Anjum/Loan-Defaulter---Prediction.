{
 "cells": [
  {
   "cell_type": "code",
   "execution_count": 96,
   "id": "d745440a",
   "metadata": {},
   "outputs": [],
   "source": [
    "import numpy as np\n",
    "import pandas as pd\n",
    "import matplotlib.pyplot as plt\n",
    "import seaborn as sns\n",
    "import statsmodels\n",
    "import statsmodels.api as sm\n",
    "from sklearn.model_selection import train_test_split,GridSearchCV\n",
    "from sklearn.linear_model import LinearRegression\n",
    "from sklearn.tree import DecisionTreeClassifier\n",
    "from sklearn.ensemble import RandomForestClassifier,AdaBoostClassifier,GradientBoostingClassifier\n",
    "\n",
    "from sklearn import metrics\n",
    "from sklearn.metrics import classification_report,accuracy_score,precision_score,recall_score,confusion_matrix,roc_curve,roc_auc_score,f1_score,cohen_kappa_score\n",
    "from warnings import filterwarnings\n",
    "filterwarnings('ignore')\n",
    "from sklearn.linear_model import LogisticRegression\n",
    "\n"
   ]
  },
  {
   "cell_type": "code",
   "execution_count": 2,
   "id": "91135107",
   "metadata": {},
   "outputs": [
    {
     "data": {
      "text/html": [
       "<div>\n",
       "<style scoped>\n",
       "    .dataframe tbody tr th:only-of-type {\n",
       "        vertical-align: middle;\n",
       "    }\n",
       "\n",
       "    .dataframe tbody tr th {\n",
       "        vertical-align: top;\n",
       "    }\n",
       "\n",
       "    .dataframe thead th {\n",
       "        text-align: right;\n",
       "    }\n",
       "</style>\n",
       "<table border=\"1\" class=\"dataframe\">\n",
       "  <thead>\n",
       "    <tr style=\"text-align: right;\">\n",
       "      <th></th>\n",
       "      <th>checkin_acc</th>\n",
       "      <th>duration</th>\n",
       "      <th>credit_history</th>\n",
       "      <th>purpose</th>\n",
       "      <th>amount</th>\n",
       "      <th>svaing_acc</th>\n",
       "      <th>present_emp_since</th>\n",
       "      <th>inst_rate</th>\n",
       "      <th>personal_status</th>\n",
       "      <th>other_debtors</th>\n",
       "      <th>...</th>\n",
       "      <th>property</th>\n",
       "      <th>age</th>\n",
       "      <th>inst_plans</th>\n",
       "      <th>housing</th>\n",
       "      <th>num_credits</th>\n",
       "      <th>job</th>\n",
       "      <th>dependents</th>\n",
       "      <th>telephone</th>\n",
       "      <th>foreign_worker</th>\n",
       "      <th>status</th>\n",
       "    </tr>\n",
       "  </thead>\n",
       "  <tbody>\n",
       "    <tr>\n",
       "      <th>0</th>\n",
       "      <td>A11</td>\n",
       "      <td>9</td>\n",
       "      <td>A34</td>\n",
       "      <td>A43</td>\n",
       "      <td>1754</td>\n",
       "      <td>A65</td>\n",
       "      <td>A75</td>\n",
       "      <td>6</td>\n",
       "      <td>A93</td>\n",
       "      <td>A101</td>\n",
       "      <td>...</td>\n",
       "      <td>A121</td>\n",
       "      <td>101</td>\n",
       "      <td>A143</td>\n",
       "      <td>A152</td>\n",
       "      <td>3</td>\n",
       "      <td>A173</td>\n",
       "      <td>2</td>\n",
       "      <td>A192</td>\n",
       "      <td>A201</td>\n",
       "      <td>1</td>\n",
       "    </tr>\n",
       "    <tr>\n",
       "      <th>1</th>\n",
       "      <td>A12</td>\n",
       "      <td>72</td>\n",
       "      <td>A32</td>\n",
       "      <td>A43</td>\n",
       "      <td>8927</td>\n",
       "      <td>A61</td>\n",
       "      <td>A73</td>\n",
       "      <td>3</td>\n",
       "      <td>A92</td>\n",
       "      <td>A101</td>\n",
       "      <td>...</td>\n",
       "      <td>A121</td>\n",
       "      <td>33</td>\n",
       "      <td>A143</td>\n",
       "      <td>A152</td>\n",
       "      <td>2</td>\n",
       "      <td>A173</td>\n",
       "      <td>2</td>\n",
       "      <td>A191</td>\n",
       "      <td>A201</td>\n",
       "      <td>2</td>\n",
       "    </tr>\n",
       "    <tr>\n",
       "      <th>2</th>\n",
       "      <td>A14</td>\n",
       "      <td>18</td>\n",
       "      <td>A34</td>\n",
       "      <td>A46</td>\n",
       "      <td>3144</td>\n",
       "      <td>A61</td>\n",
       "      <td>A74</td>\n",
       "      <td>3</td>\n",
       "      <td>A93</td>\n",
       "      <td>A101</td>\n",
       "      <td>...</td>\n",
       "      <td>A121</td>\n",
       "      <td>74</td>\n",
       "      <td>A143</td>\n",
       "      <td>A152</td>\n",
       "      <td>2</td>\n",
       "      <td>A172</td>\n",
       "      <td>3</td>\n",
       "      <td>A191</td>\n",
       "      <td>A201</td>\n",
       "      <td>1</td>\n",
       "    </tr>\n",
       "    <tr>\n",
       "      <th>3</th>\n",
       "      <td>A11</td>\n",
       "      <td>63</td>\n",
       "      <td>A32</td>\n",
       "      <td>A42</td>\n",
       "      <td>11823</td>\n",
       "      <td>A61</td>\n",
       "      <td>A74</td>\n",
       "      <td>3</td>\n",
       "      <td>A93</td>\n",
       "      <td>A103</td>\n",
       "      <td>...</td>\n",
       "      <td>A122</td>\n",
       "      <td>68</td>\n",
       "      <td>A143</td>\n",
       "      <td>A153</td>\n",
       "      <td>2</td>\n",
       "      <td>A173</td>\n",
       "      <td>3</td>\n",
       "      <td>A191</td>\n",
       "      <td>A201</td>\n",
       "      <td>1</td>\n",
       "    </tr>\n",
       "    <tr>\n",
       "      <th>4</th>\n",
       "      <td>A11</td>\n",
       "      <td>36</td>\n",
       "      <td>A33</td>\n",
       "      <td>A40</td>\n",
       "      <td>7305</td>\n",
       "      <td>A61</td>\n",
       "      <td>A73</td>\n",
       "      <td>5</td>\n",
       "      <td>A93</td>\n",
       "      <td>A101</td>\n",
       "      <td>...</td>\n",
       "      <td>A124</td>\n",
       "      <td>80</td>\n",
       "      <td>A143</td>\n",
       "      <td>A153</td>\n",
       "      <td>3</td>\n",
       "      <td>A173</td>\n",
       "      <td>3</td>\n",
       "      <td>A191</td>\n",
       "      <td>A201</td>\n",
       "      <td>2</td>\n",
       "    </tr>\n",
       "  </tbody>\n",
       "</table>\n",
       "<p>5 rows × 21 columns</p>\n",
       "</div>"
      ],
      "text/plain": [
       "  checkin_acc  duration credit_history purpose  amount svaing_acc  \\\n",
       "0         A11         9            A34     A43    1754        A65   \n",
       "1         A12        72            A32     A43    8927        A61   \n",
       "2         A14        18            A34     A46    3144        A61   \n",
       "3         A11        63            A32     A42   11823        A61   \n",
       "4         A11        36            A33     A40    7305        A61   \n",
       "\n",
       "  present_emp_since  inst_rate personal_status other_debtors  ...  property  \\\n",
       "0               A75          6             A93          A101  ...      A121   \n",
       "1               A73          3             A92          A101  ...      A121   \n",
       "2               A74          3             A93          A101  ...      A121   \n",
       "3               A74          3             A93          A103  ...      A122   \n",
       "4               A73          5             A93          A101  ...      A124   \n",
       "\n",
       "   age  inst_plans housing num_credits   job dependents  telephone  \\\n",
       "0  101        A143    A152           3  A173          2       A192   \n",
       "1   33        A143    A152           2  A173          2       A191   \n",
       "2   74        A143    A152           2  A172          3       A191   \n",
       "3   68        A143    A153           2  A173          3       A191   \n",
       "4   80        A143    A153           3  A173          3       A191   \n",
       "\n",
       "  foreign_worker status  \n",
       "0           A201      1  \n",
       "1           A201      2  \n",
       "2           A201      1  \n",
       "3           A201      1  \n",
       "4           A201      2  \n",
       "\n",
       "[5 rows x 21 columns]"
      ]
     },
     "execution_count": 2,
     "metadata": {},
     "output_type": "execute_result"
    }
   ],
   "source": [
    "data = pd.read_excel('assignment2_data.xlsx')\n",
    "data.head()"
   ]
  },
  {
   "cell_type": "code",
   "execution_count": 3,
   "id": "6cab2b0f",
   "metadata": {},
   "outputs": [],
   "source": [
    "df  = data"
   ]
  },
  {
   "cell_type": "code",
   "execution_count": 4,
   "id": "e3048986",
   "metadata": {},
   "outputs": [
    {
     "data": {
      "text/plain": [
       "(1000, 21)"
      ]
     },
     "execution_count": 4,
     "metadata": {},
     "output_type": "execute_result"
    }
   ],
   "source": [
    "df.shape"
   ]
  },
  {
   "cell_type": "code",
   "execution_count": 5,
   "id": "192b7838",
   "metadata": {},
   "outputs": [
    {
     "name": "stdout",
     "output_type": "stream",
     "text": [
      "<class 'pandas.core.frame.DataFrame'>\n",
      "RangeIndex: 1000 entries, 0 to 999\n",
      "Data columns (total 21 columns):\n",
      " #   Column             Non-Null Count  Dtype \n",
      "---  ------             --------------  ----- \n",
      " 0   checkin_acc        1000 non-null   object\n",
      " 1   duration           1000 non-null   int64 \n",
      " 2   credit_history     1000 non-null   object\n",
      " 3   purpose            1000 non-null   object\n",
      " 4   amount             1000 non-null   int64 \n",
      " 5   svaing_acc         1000 non-null   object\n",
      " 6   present_emp_since  1000 non-null   object\n",
      " 7   inst_rate          1000 non-null   int64 \n",
      " 8   personal_status    1000 non-null   object\n",
      " 9   other_debtors      1000 non-null   object\n",
      " 10  residing_since     1000 non-null   int64 \n",
      " 11  property           1000 non-null   object\n",
      " 12  age                1000 non-null   int64 \n",
      " 13  inst_plans         1000 non-null   object\n",
      " 14  housing            1000 non-null   object\n",
      " 15  num_credits        1000 non-null   int64 \n",
      " 16  job                1000 non-null   object\n",
      " 17  dependents         1000 non-null   int64 \n",
      " 18  telephone          1000 non-null   object\n",
      " 19  foreign_worker     1000 non-null   object\n",
      " 20  status             1000 non-null   int64 \n",
      "dtypes: int64(8), object(13)\n",
      "memory usage: 164.2+ KB\n"
     ]
    }
   ],
   "source": [
    "df.info()"
   ]
  },
  {
   "cell_type": "code",
   "execution_count": 23,
   "id": "89ea75e5",
   "metadata": {},
   "outputs": [
    {
     "data": {
      "text/plain": [
       "checkin_acc          0\n",
       "duration             0\n",
       "credit_history       0\n",
       "purpose              0\n",
       "amount               0\n",
       "svaing_acc           0\n",
       "present_emp_since    0\n",
       "inst_rate            0\n",
       "personal_status      0\n",
       "other_debtors        0\n",
       "residing_since       0\n",
       "property             0\n",
       "age                  0\n",
       "inst_plans           0\n",
       "housing              0\n",
       "num_credits          0\n",
       "job                  0\n",
       "dependents           0\n",
       "telephone            0\n",
       "foreign_worker       0\n",
       "status               0\n",
       "dtype: int64"
      ]
     },
     "execution_count": 23,
     "metadata": {},
     "output_type": "execute_result"
    }
   ],
   "source": [
    "df.isnull().sum()"
   ]
  },
  {
   "cell_type": "code",
   "execution_count": 6,
   "id": "5e097d7c",
   "metadata": {},
   "outputs": [],
   "source": [
    "## NO null values"
   ]
  },
  {
   "cell_type": "code",
   "execution_count": 7,
   "id": "4fb0d93a",
   "metadata": {},
   "outputs": [
    {
     "data": {
      "text/plain": [
       "([<matplotlib.patches.Wedge at 0x2031b3f42b0>,\n",
       "  <matplotlib.patches.Wedge at 0x2031b3f4a30>],\n",
       " [Text(-0.6465637441936393, 0.8899187180267096, 'Non-Deafulters'),\n",
       "  Text(0.6465637441936392, -0.8899187180267097, 'Defauters')],\n",
       " [Text(-0.3526711331965305, 0.4854102098327506, '70.00'),\n",
       "  Text(0.3526711331965304, -0.48541020983275074, '30.00')])"
      ]
     },
     "execution_count": 7,
     "metadata": {},
     "output_type": "execute_result"
    },
    {
     "data": {
      "image/png": "[encoded data removed]",
      "text/plain": [
       "<Figure size 432x288 with 1 Axes>"
      ]
     },
     "metadata": {},
     "output_type": "display_data"
    }
   ],
   "source": [
    "plt.pie(df['status'].value_counts(),normalize = True, labels = ['Non-Deafulters','Defauters'],autopct = '%.2f')"
   ]
  },
  {
   "cell_type": "code",
   "execution_count": 8,
   "id": "4679b7a5",
   "metadata": {},
   "outputs": [
    {
     "name": "stdout",
     "output_type": "stream",
     "text": [
      "checkin_acc   object\n",
      "A14    0.394\n",
      "A11    0.274\n",
      "A12    0.269\n",
      "A13    0.063\n",
      "Name: checkin_acc, dtype: float64\n",
      "duration   int64\n",
      "credit_history   object\n",
      "A32    0.530\n",
      "A34    0.293\n",
      "A33    0.088\n",
      "A31    0.049\n",
      "A30    0.040\n",
      "Name: credit_history, dtype: float64\n",
      "purpose   object\n",
      "A43     0.280\n",
      "A40     0.234\n",
      "A42     0.181\n",
      "A41     0.103\n",
      "A49     0.097\n",
      "A46     0.050\n",
      "A45     0.022\n",
      "A44     0.012\n",
      "A410    0.012\n",
      "A48     0.009\n",
      "Name: purpose, dtype: float64\n",
      "amount   int64\n",
      "svaing_acc   object\n",
      "A61    0.603\n",
      "A65    0.183\n",
      "A62    0.103\n",
      "A63    0.063\n",
      "A64    0.048\n",
      "Name: svaing_acc, dtype: float64\n",
      "present_emp_since   object\n",
      "A73    0.339\n",
      "A75    0.253\n",
      "A74    0.174\n",
      "A72    0.172\n",
      "A71    0.062\n",
      "Name: present_emp_since, dtype: float64\n",
      "inst_rate   int64\n",
      "personal_status   object\n",
      "A93    0.548\n",
      "A92    0.310\n",
      "A94    0.092\n",
      "A91    0.050\n",
      "Name: personal_status, dtype: float64\n",
      "other_debtors   object\n",
      "A101    0.907\n",
      "A103    0.052\n",
      "A102    0.041\n",
      "Name: other_debtors, dtype: float64\n",
      "residing_since   int64\n",
      "property   object\n",
      "A123    0.332\n",
      "A121    0.282\n",
      "A122    0.232\n",
      "A124    0.154\n",
      "Name: property, dtype: float64\n",
      "age   int64\n",
      "inst_plans   object\n",
      "A143    0.814\n",
      "A141    0.139\n",
      "A142    0.047\n",
      "Name: inst_plans, dtype: float64\n",
      "housing   object\n",
      "A152    0.713\n",
      "A151    0.179\n",
      "A153    0.108\n",
      "Name: housing, dtype: float64\n",
      "num_credits   int64\n",
      "job   object\n",
      "A173    0.630\n",
      "A172    0.200\n",
      "A174    0.148\n",
      "A171    0.022\n",
      "Name: job, dtype: float64\n",
      "dependents   int64\n",
      "telephone   object\n",
      "A191    0.596\n",
      "A192    0.404\n",
      "Name: telephone, dtype: float64\n",
      "foreign_worker   object\n",
      "A201    0.963\n",
      "A202    0.037\n",
      "Name: foreign_worker, dtype: float64\n",
      "status   int64\n"
     ]
    }
   ],
   "source": [
    "for i in df.columns :\n",
    "    print(i,' ',df[i].dtype)\n",
    "    if df[i].dtype == 'object':\n",
    "        print(df[i].value_counts(normalize = True))"
   ]
  },
  {
   "cell_type": "code",
   "execution_count": 9,
   "id": "ab27903a",
   "metadata": {},
   "outputs": [
    {
     "data": {
      "text/plain": [
       "Index(['checkin_acc', 'duration', 'credit_history', 'purpose', 'amount',\n",
       "       'svaing_acc', 'present_emp_since', 'inst_rate', 'personal_status',\n",
       "       'other_debtors', 'residing_since', 'property', 'age', 'inst_plans',\n",
       "       'housing', 'num_credits', 'job', 'dependents', 'telephone',\n",
       "       'foreign_worker', 'status'],\n",
       "      dtype='object')"
      ]
     },
     "execution_count": 9,
     "metadata": {},
     "output_type": "execute_result"
    }
   ],
   "source": [
    "df.columns"
   ]
  },
  {
   "cell_type": "code",
   "execution_count": 10,
   "id": "cf42a225",
   "metadata": {},
   "outputs": [
    {
     "data": {
      "text/plain": [
       "<AxesSubplot:xlabel='amount'>"
      ]
     },
     "execution_count": 10,
     "metadata": {},
     "output_type": "execute_result"
    },
    {
     "data": {
      "image/png": "[encoded data removed]",
      "text/plain": [
       "<Figure size 864x288 with 1 Axes>"
      ]
     },
     "metadata": {
      "needs_background": "light"
     },
     "output_type": "display_data"
    }
   ],
   "source": [
    "plt.figure(figsize=(12,4))\n",
    "sns.distplot(df['amount'],kde=False,bins=30)"
   ]
  },
  {
   "cell_type": "code",
   "execution_count": 12,
   "id": "ca51b06c",
   "metadata": {},
   "outputs": [],
   "source": [
    "## Here the major distribution of loan  amount lie between 1-10000"
   ]
  },
  {
   "cell_type": "markdown",
   "id": "b20f8545",
   "metadata": {},
   "source": [
    "#### Finding dependency btw categorical variables and status "
   ]
  },
  {
   "cell_type": "markdown",
   "id": "11da8ab3",
   "metadata": {},
   "source": [
    "##### ~Applying CHI_sq Contingency to see if  categorical varibles and status have some sort of dependence"
   ]
  },
  {
   "cell_type": "code",
   "execution_count": 20,
   "id": "4149a2b6",
   "metadata": {},
   "outputs": [],
   "source": [
    "df['status'] = df['status'].astype('object')"
   ]
  },
  {
   "cell_type": "code",
   "execution_count": 21,
   "id": "46f10860",
   "metadata": {},
   "outputs": [
    {
     "data": {
      "text/html": [
       "<div>\n",
       "<style scoped>\n",
       "    .dataframe tbody tr th:only-of-type {\n",
       "        vertical-align: middle;\n",
       "    }\n",
       "\n",
       "    .dataframe tbody tr th {\n",
       "        vertical-align: top;\n",
       "    }\n",
       "\n",
       "    .dataframe thead th {\n",
       "        text-align: right;\n",
       "    }\n",
       "</style>\n",
       "<table border=\"1\" class=\"dataframe\">\n",
       "  <thead>\n",
       "    <tr style=\"text-align: right;\">\n",
       "      <th></th>\n",
       "      <th>checkin_acc</th>\n",
       "      <th>credit_history</th>\n",
       "      <th>purpose</th>\n",
       "      <th>svaing_acc</th>\n",
       "      <th>present_emp_since</th>\n",
       "      <th>personal_status</th>\n",
       "      <th>other_debtors</th>\n",
       "      <th>property</th>\n",
       "      <th>inst_plans</th>\n",
       "      <th>housing</th>\n",
       "      <th>job</th>\n",
       "      <th>telephone</th>\n",
       "      <th>foreign_worker</th>\n",
       "      <th>status</th>\n",
       "    </tr>\n",
       "  </thead>\n",
       "  <tbody>\n",
       "    <tr>\n",
       "      <th>0</th>\n",
       "      <td>A11</td>\n",
       "      <td>A34</td>\n",
       "      <td>A43</td>\n",
       "      <td>A65</td>\n",
       "      <td>A75</td>\n",
       "      <td>A93</td>\n",
       "      <td>A101</td>\n",
       "      <td>A121</td>\n",
       "      <td>A143</td>\n",
       "      <td>A152</td>\n",
       "      <td>A173</td>\n",
       "      <td>A192</td>\n",
       "      <td>A201</td>\n",
       "      <td>1</td>\n",
       "    </tr>\n",
       "    <tr>\n",
       "      <th>1</th>\n",
       "      <td>A12</td>\n",
       "      <td>A32</td>\n",
       "      <td>A43</td>\n",
       "      <td>A61</td>\n",
       "      <td>A73</td>\n",
       "      <td>A92</td>\n",
       "      <td>A101</td>\n",
       "      <td>A121</td>\n",
       "      <td>A143</td>\n",
       "      <td>A152</td>\n",
       "      <td>A173</td>\n",
       "      <td>A191</td>\n",
       "      <td>A201</td>\n",
       "      <td>2</td>\n",
       "    </tr>\n",
       "    <tr>\n",
       "      <th>2</th>\n",
       "      <td>A14</td>\n",
       "      <td>A34</td>\n",
       "      <td>A46</td>\n",
       "      <td>A61</td>\n",
       "      <td>A74</td>\n",
       "      <td>A93</td>\n",
       "      <td>A101</td>\n",
       "      <td>A121</td>\n",
       "      <td>A143</td>\n",
       "      <td>A152</td>\n",
       "      <td>A172</td>\n",
       "      <td>A191</td>\n",
       "      <td>A201</td>\n",
       "      <td>1</td>\n",
       "    </tr>\n",
       "    <tr>\n",
       "      <th>3</th>\n",
       "      <td>A11</td>\n",
       "      <td>A32</td>\n",
       "      <td>A42</td>\n",
       "      <td>A61</td>\n",
       "      <td>A74</td>\n",
       "      <td>A93</td>\n",
       "      <td>A103</td>\n",
       "      <td>A122</td>\n",
       "      <td>A143</td>\n",
       "      <td>A153</td>\n",
       "      <td>A173</td>\n",
       "      <td>A191</td>\n",
       "      <td>A201</td>\n",
       "      <td>1</td>\n",
       "    </tr>\n",
       "    <tr>\n",
       "      <th>4</th>\n",
       "      <td>A11</td>\n",
       "      <td>A33</td>\n",
       "      <td>A40</td>\n",
       "      <td>A61</td>\n",
       "      <td>A73</td>\n",
       "      <td>A93</td>\n",
       "      <td>A101</td>\n",
       "      <td>A124</td>\n",
       "      <td>A143</td>\n",
       "      <td>A153</td>\n",
       "      <td>A173</td>\n",
       "      <td>A191</td>\n",
       "      <td>A201</td>\n",
       "      <td>2</td>\n",
       "    </tr>\n",
       "  </tbody>\n",
       "</table>\n",
       "</div>"
      ],
      "text/plain": [
       "  checkin_acc credit_history purpose svaing_acc present_emp_since  \\\n",
       "0         A11            A34     A43        A65               A75   \n",
       "1         A12            A32     A43        A61               A73   \n",
       "2         A14            A34     A46        A61               A74   \n",
       "3         A11            A32     A42        A61               A74   \n",
       "4         A11            A33     A40        A61               A73   \n",
       "\n",
       "  personal_status other_debtors property inst_plans housing   job telephone  \\\n",
       "0             A93          A101     A121       A143    A152  A173      A192   \n",
       "1             A92          A101     A121       A143    A152  A173      A191   \n",
       "2             A93          A101     A121       A143    A152  A172      A191   \n",
       "3             A93          A103     A122       A143    A153  A173      A191   \n",
       "4             A93          A101     A124       A143    A153  A173      A191   \n",
       "\n",
       "  foreign_worker status  \n",
       "0           A201      1  \n",
       "1           A201      2  \n",
       "2           A201      1  \n",
       "3           A201      1  \n",
       "4           A201      2  "
      ]
     },
     "execution_count": 21,
     "metadata": {},
     "output_type": "execute_result"
    }
   ],
   "source": [
    "df_cat = df.select_dtypes(include = 'object')\n",
    "df_cat.head()"
   ]
  },
  {
   "cell_type": "code",
   "execution_count": 22,
   "id": "cf8817b9",
   "metadata": {},
   "outputs": [],
   "source": [
    "from scipy import stats\n",
    "from scipy.stats import chi2_contingency\n",
    "from scipy.stats import chi2\n",
    "from scipy.stats import chisquare\n",
    "## null - hypo is the variables are independent\n",
    "## alternate - hypo is the variables are independent\n",
    "## let alpha = 0.05(we are 95 percent confident about our inferences)"
   ]
  },
  {
   "cell_type": "code",
   "execution_count": 23,
   "id": "8f0fcee6",
   "metadata": {},
   "outputs": [
    {
     "data": {
      "text/html": [
       "<div>\n",
       "<style scoped>\n",
       "    .dataframe tbody tr th:only-of-type {\n",
       "        vertical-align: middle;\n",
       "    }\n",
       "\n",
       "    .dataframe tbody tr th {\n",
       "        vertical-align: top;\n",
       "    }\n",
       "\n",
       "    .dataframe thead th {\n",
       "        text-align: right;\n",
       "    }\n",
       "</style>\n",
       "<table border=\"1\" class=\"dataframe\">\n",
       "  <thead>\n",
       "    <tr style=\"text-align: right;\">\n",
       "      <th></th>\n",
       "      <th>checkin_acc</th>\n",
       "      <th>credit_history</th>\n",
       "      <th>purpose</th>\n",
       "      <th>svaing_acc</th>\n",
       "      <th>present_emp_since</th>\n",
       "      <th>personal_status</th>\n",
       "      <th>other_debtors</th>\n",
       "      <th>property</th>\n",
       "      <th>inst_plans</th>\n",
       "      <th>housing</th>\n",
       "      <th>job</th>\n",
       "      <th>telephone</th>\n",
       "      <th>foreign_worker</th>\n",
       "      <th>status</th>\n",
       "    </tr>\n",
       "  </thead>\n",
       "  <tbody>\n",
       "    <tr>\n",
       "      <th>0</th>\n",
       "      <td>A11</td>\n",
       "      <td>A34</td>\n",
       "      <td>A43</td>\n",
       "      <td>A65</td>\n",
       "      <td>A75</td>\n",
       "      <td>A93</td>\n",
       "      <td>A101</td>\n",
       "      <td>A121</td>\n",
       "      <td>A143</td>\n",
       "      <td>A152</td>\n",
       "      <td>A173</td>\n",
       "      <td>A192</td>\n",
       "      <td>A201</td>\n",
       "      <td>1</td>\n",
       "    </tr>\n",
       "    <tr>\n",
       "      <th>1</th>\n",
       "      <td>A12</td>\n",
       "      <td>A32</td>\n",
       "      <td>A43</td>\n",
       "      <td>A61</td>\n",
       "      <td>A73</td>\n",
       "      <td>A92</td>\n",
       "      <td>A101</td>\n",
       "      <td>A121</td>\n",
       "      <td>A143</td>\n",
       "      <td>A152</td>\n",
       "      <td>A173</td>\n",
       "      <td>A191</td>\n",
       "      <td>A201</td>\n",
       "      <td>2</td>\n",
       "    </tr>\n",
       "  </tbody>\n",
       "</table>\n",
       "</div>"
      ],
      "text/plain": [
       "  checkin_acc credit_history purpose svaing_acc present_emp_since  \\\n",
       "0         A11            A34     A43        A65               A75   \n",
       "1         A12            A32     A43        A61               A73   \n",
       "\n",
       "  personal_status other_debtors property inst_plans housing   job telephone  \\\n",
       "0             A93          A101     A121       A143    A152  A173      A192   \n",
       "1             A92          A101     A121       A143    A152  A173      A191   \n",
       "\n",
       "  foreign_worker status  \n",
       "0           A201      1  \n",
       "1           A201      2  "
      ]
     },
     "execution_count": 23,
     "metadata": {},
     "output_type": "execute_result"
    }
   ],
   "source": [
    "df_cat.head(2)"
   ]
  },
  {
   "cell_type": "code",
   "execution_count": 24,
   "id": "e4d35dad",
   "metadata": {},
   "outputs": [
    {
     "name": "stdout",
     "output_type": "stream",
     "text": [
      "we reject null hypo is  checkin_acc  and status are dependent\n",
      "we reject null hypo is  credit_history  and status are dependent\n",
      "we reject null hypo is  purpose  and status are dependent\n",
      "we reject null hypo is  svaing_acc  and status are dependent\n",
      "we reject null hypo is  present_emp_since  and status are dependent\n",
      "we reject null hypo is  personal_status  and status are dependent\n",
      "we reject null hypo is  other_debtors  and status are dependent\n",
      "we reject null hypo is  property  and status are dependent\n",
      "we reject null hypo is  inst_plans  and status are dependent\n",
      "we reject null hypo is  housing  and status are dependent\n",
      "We fail to Reject Null Hypothesis ie  job  and status are independent\n",
      "We fail to Reject Null Hypothesis ie  telephone  and status are independent\n",
      "we reject null hypo is  foreign_worker  and status are dependent\n"
     ]
    }
   ],
   "source": [
    "l = []\n",
    "for i in df_cat.drop(columns = 'status').columns:\n",
    "    df_c = pd.crosstab(df_cat[i],df_cat['status'])\n",
    "    obs = df_c.values\n",
    "    n = df[i].nunique()\n",
    "    k = 1\n",
    "    chi2_val = np.abs(round(stats.chi2.isf(q = 0.05, df = (n-1)*k), 4))\n",
    "    \n",
    "    test_stat, p, dof, expected_value = chi2_contingency(observed = obs, correction = False)\n",
    "    if p> 0.05 and test_stat<chi2_val:\n",
    "        print('We fail to Reject Null Hypothesis ie ',i,' and status are independent')\n",
    "    else:\n",
    "        print('we reject null hypo is ',i,' and status are dependent')\n",
    "        l.append(i)\n",
    "\n",
    "    \n",
    "                       \n",
    "   "
   ]
  },
  {
   "cell_type": "code",
   "execution_count": 25,
   "id": "f997906b",
   "metadata": {},
   "outputs": [
    {
     "name": "stdout",
     "output_type": "stream",
     "text": [
      "These variables with 95%  confidence have an influence for an individual to default  ['checkin_acc', 'credit_history', 'purpose', 'svaing_acc', 'present_emp_since', 'personal_status', 'other_debtors', 'property', 'inst_plans', 'housing', 'foreign_worker']\n"
     ]
    }
   ],
   "source": [
    "print('These variables with 95%  confidence have an influence for an individual to default ',l)"
   ]
  },
  {
   "cell_type": "code",
   "execution_count": 45,
   "id": "d0e1fc22",
   "metadata": {},
   "outputs": [],
   "source": [
    "#### Finding Correlation btw numerical columns"
   ]
  },
  {
   "cell_type": "code",
   "execution_count": 26,
   "id": "220ced28",
   "metadata": {},
   "outputs": [
    {
     "data": {
      "text/html": [
       "<div>\n",
       "<style scoped>\n",
       "    .dataframe tbody tr th:only-of-type {\n",
       "        vertical-align: middle;\n",
       "    }\n",
       "\n",
       "    .dataframe tbody tr th {\n",
       "        vertical-align: top;\n",
       "    }\n",
       "\n",
       "    .dataframe thead th {\n",
       "        text-align: right;\n",
       "    }\n",
       "</style>\n",
       "<table border=\"1\" class=\"dataframe\">\n",
       "  <thead>\n",
       "    <tr style=\"text-align: right;\">\n",
       "      <th></th>\n",
       "      <th>duration</th>\n",
       "      <th>amount</th>\n",
       "      <th>inst_rate</th>\n",
       "      <th>residing_since</th>\n",
       "      <th>age</th>\n",
       "      <th>num_credits</th>\n",
       "      <th>dependents</th>\n",
       "    </tr>\n",
       "  </thead>\n",
       "  <tbody>\n",
       "    <tr>\n",
       "      <th>0</th>\n",
       "      <td>9</td>\n",
       "      <td>1754</td>\n",
       "      <td>6</td>\n",
       "      <td>6</td>\n",
       "      <td>101</td>\n",
       "      <td>3</td>\n",
       "      <td>2</td>\n",
       "    </tr>\n",
       "    <tr>\n",
       "      <th>1</th>\n",
       "      <td>72</td>\n",
       "      <td>8927</td>\n",
       "      <td>3</td>\n",
       "      <td>3</td>\n",
       "      <td>33</td>\n",
       "      <td>2</td>\n",
       "      <td>2</td>\n",
       "    </tr>\n",
       "    <tr>\n",
       "      <th>2</th>\n",
       "      <td>18</td>\n",
       "      <td>3144</td>\n",
       "      <td>3</td>\n",
       "      <td>5</td>\n",
       "      <td>74</td>\n",
       "      <td>2</td>\n",
       "      <td>3</td>\n",
       "    </tr>\n",
       "    <tr>\n",
       "      <th>3</th>\n",
       "      <td>63</td>\n",
       "      <td>11823</td>\n",
       "      <td>3</td>\n",
       "      <td>6</td>\n",
       "      <td>68</td>\n",
       "      <td>2</td>\n",
       "      <td>3</td>\n",
       "    </tr>\n",
       "    <tr>\n",
       "      <th>4</th>\n",
       "      <td>36</td>\n",
       "      <td>7305</td>\n",
       "      <td>5</td>\n",
       "      <td>6</td>\n",
       "      <td>80</td>\n",
       "      <td>3</td>\n",
       "      <td>3</td>\n",
       "    </tr>\n",
       "  </tbody>\n",
       "</table>\n",
       "</div>"
      ],
      "text/plain": [
       "   duration  amount  inst_rate  residing_since  age  num_credits  dependents\n",
       "0         9    1754          6               6  101            3           2\n",
       "1        72    8927          3               3   33            2           2\n",
       "2        18    3144          3               5   74            2           3\n",
       "3        63   11823          3               6   68            2           3\n",
       "4        36    7305          5               6   80            3           3"
      ]
     },
     "execution_count": 26,
     "metadata": {},
     "output_type": "execute_result"
    }
   ],
   "source": [
    "df_num = df.select_dtypes(include = np.number)\n",
    "df_num.head()"
   ]
  },
  {
   "cell_type": "code",
   "execution_count": 27,
   "id": "a96bb726",
   "metadata": {},
   "outputs": [
    {
     "data": {
      "image/png": "[encoded data removed]",
      "text/plain": [
       "<Figure size 432x288 with 1 Axes>"
      ]
     },
     "metadata": {
      "needs_background": "light"
     },
     "output_type": "display_data"
    },
    {
     "data": {
      "image/png": "[encoded data removed]",
      "text/plain": [
       "<Figure size 432x288 with 1 Axes>"
      ]
     },
     "metadata": {
      "needs_background": "light"
     },
     "output_type": "display_data"
    },
    {
     "data": {
      "image/png": "[encoded data removed]",
      "text/plain": [
       "<Figure size 432x288 with 1 Axes>"
      ]
     },
     "metadata": {
      "needs_background": "light"
     },
     "output_type": "display_data"
    },
    {
     "data": {
      "image/png": "[encoded data removed]",
      "text/plain": [
       "<Figure size 432x288 with 1 Axes>"
      ]
     },
     "metadata": {
      "needs_background": "light"
     },
     "output_type": "display_data"
    },
    {
     "data": {
      "image/png": "[encoded data removed]",
      "text/plain": [
       "<Figure size 432x288 with 1 Axes>"
      ]
     },
     "metadata": {
      "needs_background": "light"
     },
     "output_type": "display_data"
    },
    {
     "data": {
      "image/png": "[encoded data removed]",
      "text/plain": [
       "<Figure size 432x288 with 1 Axes>"
      ]
     },
     "metadata": {
      "needs_background": "light"
     },
     "output_type": "display_data"
    },
    {
     "data": {
      "image/png": "[encoded data removed]",
      "text/plain": [
       "<Figure size 432x288 with 1 Axes>"
      ]
     },
     "metadata": {
      "needs_background": "light"
     },
     "output_type": "display_data"
    }
   ],
   "source": [
    "for i in df_num.columns:\n",
    "    sns.boxplot(df_cat['status'],df_num[i])\n",
    "    plt.show()"
   ]
  },
  {
   "cell_type": "code",
   "execution_count": null,
   "id": "67d0c260",
   "metadata": {},
   "outputs": [],
   "source": [
    "## From the above boxplot we can see amount and the duration has impact in defaulting the loan"
   ]
  },
  {
   "cell_type": "code",
   "execution_count": 28,
   "id": "4175c4db",
   "metadata": {},
   "outputs": [],
   "source": [
    "df_ad = df[['amount','duration','status']]"
   ]
  },
  {
   "cell_type": "code",
   "execution_count": 58,
   "id": "3111aea1",
   "metadata": {},
   "outputs": [
    {
     "data": {
      "text/plain": [
       "Text(0, 0.5, 'Amount')"
      ]
     },
     "execution_count": 58,
     "metadata": {},
     "output_type": "execute_result"
    },
    {
     "data": {
      "image/png": "[encoded data removed]",
      "text/plain": [
       "<Figure size 432x288 with 1 Axes>"
      ]
     },
     "metadata": {
      "needs_background": "light"
     },
     "output_type": "display_data"
    }
   ],
   "source": [
    "df_ad.groupby('status')['amount'].mean().plot(kind = 'bar')\n",
    "plt.ylabel('Amount')"
   ]
  },
  {
   "cell_type": "code",
   "execution_count": 61,
   "id": "acf6f055",
   "metadata": {},
   "outputs": [
    {
     "data": {
      "text/plain": [
       "Text(0, 0.5, 'Amount')"
      ]
     },
     "execution_count": 61,
     "metadata": {},
     "output_type": "execute_result"
    },
    {
     "data": {
      "image/png": "[encoded data removed]",
      "text/plain": [
       "<Figure size 432x288 with 1 Axes>"
      ]
     },
     "metadata": {
      "needs_background": "light"
     },
     "output_type": "display_data"
    }
   ],
   "source": [
    "df_ad.groupby('status')['amount'].median().plot(kind = 'bar')\n",
    "plt.ylabel('Amount')"
   ]
  },
  {
   "cell_type": "markdown",
   "id": "28078791",
   "metadata": {},
   "source": [
    "##### FRom the above bar plots with and without taking the outliers into consideration , a person taking larger loan amount is more likely to default"
   ]
  },
  {
   "cell_type": "code",
   "execution_count": 63,
   "id": "9a55f1fd",
   "metadata": {},
   "outputs": [
    {
     "data": {
      "text/plain": [
       "Text(0, 0.5, 'Duration')"
      ]
     },
     "execution_count": 63,
     "metadata": {},
     "output_type": "execute_result"
    },
    {
     "data": {
      "image/png": "[encoded data removed]",
      "text/plain": [
       "<Figure size 432x288 with 1 Axes>"
      ]
     },
     "metadata": {
      "needs_background": "light"
     },
     "output_type": "display_data"
    }
   ],
   "source": [
    "df_ad.groupby('status')['duration'].mean().plot(kind = 'bar')\n",
    "plt.ylabel('Duration')"
   ]
  },
  {
   "cell_type": "code",
   "execution_count": 64,
   "id": "c16be6f3",
   "metadata": {},
   "outputs": [
    {
     "data": {
      "text/plain": [
       "Text(0, 0.5, 'Duration')"
      ]
     },
     "execution_count": 64,
     "metadata": {},
     "output_type": "execute_result"
    },
    {
     "data": {
      "image/png": "[encoded data removed]",
      "text/plain": [
       "<Figure size 432x288 with 1 Axes>"
      ]
     },
     "metadata": {
      "needs_background": "light"
     },
     "output_type": "display_data"
    }
   ],
   "source": [
    "df_ad.groupby('status')['duration'].mean().plot(kind = 'bar')\n",
    "plt.ylabel('Duration')"
   ]
  },
  {
   "cell_type": "markdown",
   "id": "40c0b9fa",
   "metadata": {},
   "source": [
    "##### Similarly,from the above bar plots with and without taking the outliers into consideration , a person taking  larger loan for longer duration is more likely to default"
   ]
  },
  {
   "cell_type": "code",
   "execution_count": 70,
   "id": "923372a4",
   "metadata": {},
   "outputs": [
    {
     "data": {
      "image/png": "[encoded data removed]",
      "text/plain": [
       "<Figure size 432x288 with 2 Axes>"
      ]
     },
     "metadata": {
      "needs_background": "light"
     },
     "output_type": "display_data"
    }
   ],
   "source": [
    "sns.heatmap(df.corr(),annot = True,vmin = -1,vmax = +1)\n",
    "plt.show()"
   ]
  },
  {
   "cell_type": "code",
   "execution_count": 71,
   "id": "17cf6973",
   "metadata": {},
   "outputs": [
    {
     "data": {
      "image/png": "[encoded data removed]",
      "text/plain": [
       "<Figure size 432x288 with 1 Axes>"
      ]
     },
     "metadata": {
      "needs_background": "light"
     },
     "output_type": "display_data"
    }
   ],
   "source": [
    "sns.regplot(df_num['duration'],df_num['amount']) ## positive correlation as expected \n",
    "plt.show()"
   ]
  },
  {
   "cell_type": "code",
   "execution_count": 72,
   "id": "e5b12a96",
   "metadata": {},
   "outputs": [],
   "source": [
    "##1 None of the numberic features(individually) seem to have any correlation with status columns\n",
    "## (ie defaulting or not defaulting), However, there could be combined influence on our status column\n",
    "\n",
    "##2 cannot proceed with PCA (no -high correlation can be seen within the independent features)"
   ]
  },
  {
   "cell_type": "code",
   "execution_count": 73,
   "id": "2f111f3c",
   "metadata": {},
   "outputs": [
    {
     "name": "stdout",
     "output_type": "stream",
     "text": [
      "1.094408737916819\n"
     ]
    },
    {
     "data": {
      "image/png": "[encoded data removed]",
      "text/plain": [
       "<Figure size 432x288 with 1 Axes>"
      ]
     },
     "metadata": {
      "needs_background": "light"
     },
     "output_type": "display_data"
    },
    {
     "name": "stdout",
     "output_type": "stream",
     "text": [
      "1.949622057818463\n"
     ]
    },
    {
     "data": {
      "image/png": "[encoded data removed]",
      "text/plain": [
       "<Figure size 432x288 with 1 Axes>"
      ]
     },
     "metadata": {
      "needs_background": "light"
     },
     "output_type": "display_data"
    },
    {
     "name": "stdout",
     "output_type": "stream",
     "text": [
      "-0.533091784787296\n"
     ]
    },
    {
     "data": {
      "image/png": "[encoded data removed]",
      "text/plain": [
       "<Figure size 432x288 with 1 Axes>"
      ]
     },
     "metadata": {
      "needs_background": "light"
     },
     "output_type": "display_data"
    },
    {
     "name": "stdout",
     "output_type": "stream",
     "text": [
      "-0.2513106630362221\n"
     ]
    },
    {
     "data": {
      "image/png": "[encoded data removed]",
      "text/plain": [
       "<Figure size 432x288 with 1 Axes>"
      ]
     },
     "metadata": {
      "needs_background": "light"
     },
     "output_type": "display_data"
    },
    {
     "name": "stdout",
     "output_type": "stream",
     "text": [
      "1.0201622094283025\n"
     ]
    },
    {
     "data": {
      "image/png": "[encoded data removed]",
      "text/plain": [
       "<Figure size 432x288 with 1 Axes>"
      ]
     },
     "metadata": {
      "needs_background": "light"
     },
     "output_type": "display_data"
    },
    {
     "name": "stdout",
     "output_type": "stream",
     "text": [
      "2.194441013078224\n"
     ]
    },
    {
     "data": {
      "image/png": "[encoded data removed]",
      "text/plain": [
       "<Figure size 432x288 with 1 Axes>"
      ]
     },
     "metadata": {
      "needs_background": "light"
     },
     "output_type": "display_data"
    },
    {
     "name": "stdout",
     "output_type": "stream",
     "text": [
      "1.9094447212974863\n"
     ]
    },
    {
     "data": {
      "image/png": "[encoded data removed]",
      "text/plain": [
       "<Figure size 432x288 with 1 Axes>"
      ]
     },
     "metadata": {
      "needs_background": "light"
     },
     "output_type": "display_data"
    }
   ],
   "source": [
    "for i in df_num.columns:\n",
    "    print(df_num[i].skew())\n",
    "    sns.distplot(df_num[i])\n",
    "    plt.show()\n"
   ]
  },
  {
   "cell_type": "code",
   "execution_count": 74,
   "id": "7b19768a",
   "metadata": {},
   "outputs": [],
   "source": [
    "## no to slight skewness can be seen therfore transformations  can be omitted"
   ]
  },
  {
   "cell_type": "markdown",
   "id": "ea101356",
   "metadata": {},
   "source": [
    "##### One hot Encoding of the Categorical variables"
   ]
  },
  {
   "cell_type": "code",
   "execution_count": 76,
   "id": "0ed4464c",
   "metadata": {},
   "outputs": [],
   "source": [
    "df_cat = pd.get_dummies(data = df_cat,columns = df_cat.drop(columns = 'status').columns ,drop_first = True)"
   ]
  },
  {
   "cell_type": "code",
   "execution_count": 77,
   "id": "cf2d1076",
   "metadata": {},
   "outputs": [
    {
     "data": {
      "text/html": [
       "<div>\n",
       "<style scoped>\n",
       "    .dataframe tbody tr th:only-of-type {\n",
       "        vertical-align: middle;\n",
       "    }\n",
       "\n",
       "    .dataframe tbody tr th {\n",
       "        vertical-align: top;\n",
       "    }\n",
       "\n",
       "    .dataframe thead th {\n",
       "        text-align: right;\n",
       "    }\n",
       "</style>\n",
       "<table border=\"1\" class=\"dataframe\">\n",
       "  <thead>\n",
       "    <tr style=\"text-align: right;\">\n",
       "      <th></th>\n",
       "      <th>status</th>\n",
       "      <th>checkin_acc_A12</th>\n",
       "      <th>checkin_acc_A13</th>\n",
       "      <th>checkin_acc_A14</th>\n",
       "      <th>credit_history_A31</th>\n",
       "      <th>credit_history_A32</th>\n",
       "      <th>credit_history_A33</th>\n",
       "      <th>credit_history_A34</th>\n",
       "      <th>purpose_A41</th>\n",
       "      <th>purpose_A410</th>\n",
       "      <th>...</th>\n",
       "      <th>property_A124</th>\n",
       "      <th>inst_plans_A142</th>\n",
       "      <th>inst_plans_A143</th>\n",
       "      <th>housing_A152</th>\n",
       "      <th>housing_A153</th>\n",
       "      <th>job_A172</th>\n",
       "      <th>job_A173</th>\n",
       "      <th>job_A174</th>\n",
       "      <th>telephone_A192</th>\n",
       "      <th>foreign_worker_A202</th>\n",
       "    </tr>\n",
       "  </thead>\n",
       "  <tbody>\n",
       "    <tr>\n",
       "      <th>0</th>\n",
       "      <td>1</td>\n",
       "      <td>0</td>\n",
       "      <td>0</td>\n",
       "      <td>0</td>\n",
       "      <td>0</td>\n",
       "      <td>0</td>\n",
       "      <td>0</td>\n",
       "      <td>1</td>\n",
       "      <td>0</td>\n",
       "      <td>0</td>\n",
       "      <td>...</td>\n",
       "      <td>0</td>\n",
       "      <td>0</td>\n",
       "      <td>1</td>\n",
       "      <td>1</td>\n",
       "      <td>0</td>\n",
       "      <td>0</td>\n",
       "      <td>1</td>\n",
       "      <td>0</td>\n",
       "      <td>1</td>\n",
       "      <td>0</td>\n",
       "    </tr>\n",
       "    <tr>\n",
       "      <th>1</th>\n",
       "      <td>2</td>\n",
       "      <td>1</td>\n",
       "      <td>0</td>\n",
       "      <td>0</td>\n",
       "      <td>0</td>\n",
       "      <td>1</td>\n",
       "      <td>0</td>\n",
       "      <td>0</td>\n",
       "      <td>0</td>\n",
       "      <td>0</td>\n",
       "      <td>...</td>\n",
       "      <td>0</td>\n",
       "      <td>0</td>\n",
       "      <td>1</td>\n",
       "      <td>1</td>\n",
       "      <td>0</td>\n",
       "      <td>0</td>\n",
       "      <td>1</td>\n",
       "      <td>0</td>\n",
       "      <td>0</td>\n",
       "      <td>0</td>\n",
       "    </tr>\n",
       "    <tr>\n",
       "      <th>2</th>\n",
       "      <td>1</td>\n",
       "      <td>0</td>\n",
       "      <td>0</td>\n",
       "      <td>1</td>\n",
       "      <td>0</td>\n",
       "      <td>0</td>\n",
       "      <td>0</td>\n",
       "      <td>1</td>\n",
       "      <td>0</td>\n",
       "      <td>0</td>\n",
       "      <td>...</td>\n",
       "      <td>0</td>\n",
       "      <td>0</td>\n",
       "      <td>1</td>\n",
       "      <td>1</td>\n",
       "      <td>0</td>\n",
       "      <td>1</td>\n",
       "      <td>0</td>\n",
       "      <td>0</td>\n",
       "      <td>0</td>\n",
       "      <td>0</td>\n",
       "    </tr>\n",
       "    <tr>\n",
       "      <th>3</th>\n",
       "      <td>1</td>\n",
       "      <td>0</td>\n",
       "      <td>0</td>\n",
       "      <td>0</td>\n",
       "      <td>0</td>\n",
       "      <td>1</td>\n",
       "      <td>0</td>\n",
       "      <td>0</td>\n",
       "      <td>0</td>\n",
       "      <td>0</td>\n",
       "      <td>...</td>\n",
       "      <td>0</td>\n",
       "      <td>0</td>\n",
       "      <td>1</td>\n",
       "      <td>0</td>\n",
       "      <td>1</td>\n",
       "      <td>0</td>\n",
       "      <td>1</td>\n",
       "      <td>0</td>\n",
       "      <td>0</td>\n",
       "      <td>0</td>\n",
       "    </tr>\n",
       "    <tr>\n",
       "      <th>4</th>\n",
       "      <td>2</td>\n",
       "      <td>0</td>\n",
       "      <td>0</td>\n",
       "      <td>0</td>\n",
       "      <td>0</td>\n",
       "      <td>0</td>\n",
       "      <td>1</td>\n",
       "      <td>0</td>\n",
       "      <td>0</td>\n",
       "      <td>0</td>\n",
       "      <td>...</td>\n",
       "      <td>1</td>\n",
       "      <td>0</td>\n",
       "      <td>1</td>\n",
       "      <td>0</td>\n",
       "      <td>1</td>\n",
       "      <td>0</td>\n",
       "      <td>1</td>\n",
       "      <td>0</td>\n",
       "      <td>0</td>\n",
       "      <td>0</td>\n",
       "    </tr>\n",
       "  </tbody>\n",
       "</table>\n",
       "<p>5 rows × 42 columns</p>\n",
       "</div>"
      ],
      "text/plain": [
       "  status  checkin_acc_A12  checkin_acc_A13  checkin_acc_A14  \\\n",
       "0      1                0                0                0   \n",
       "1      2                1                0                0   \n",
       "2      1                0                0                1   \n",
       "3      1                0                0                0   \n",
       "4      2                0                0                0   \n",
       "\n",
       "   credit_history_A31  credit_history_A32  credit_history_A33  \\\n",
       "0                   0                   0                   0   \n",
       "1                   0                   1                   0   \n",
       "2                   0                   0                   0   \n",
       "3                   0                   1                   0   \n",
       "4                   0                   0                   1   \n",
       "\n",
       "   credit_history_A34  purpose_A41  purpose_A410  ...  property_A124  \\\n",
       "0                   1            0             0  ...              0   \n",
       "1                   0            0             0  ...              0   \n",
       "2                   1            0             0  ...              0   \n",
       "3                   0            0             0  ...              0   \n",
       "4                   0            0             0  ...              1   \n",
       "\n",
       "   inst_plans_A142  inst_plans_A143  housing_A152  housing_A153  job_A172  \\\n",
       "0                0                1             1             0         0   \n",
       "1                0                1             1             0         0   \n",
       "2                0                1             1             0         1   \n",
       "3                0                1             0             1         0   \n",
       "4                0                1             0             1         0   \n",
       "\n",
       "   job_A173  job_A174  telephone_A192  foreign_worker_A202  \n",
       "0         1         0               1                    0  \n",
       "1         1         0               0                    0  \n",
       "2         0         0               0                    0  \n",
       "3         1         0               0                    0  \n",
       "4         1         0               0                    0  \n",
       "\n",
       "[5 rows x 42 columns]"
      ]
     },
     "execution_count": 77,
     "metadata": {},
     "output_type": "execute_result"
    }
   ],
   "source": [
    "df_cat.head()"
   ]
  },
  {
   "cell_type": "code",
   "execution_count": 78,
   "id": "86c9c91f",
   "metadata": {},
   "outputs": [
    {
     "data": {
      "text/html": [
       "<div>\n",
       "<style scoped>\n",
       "    .dataframe tbody tr th:only-of-type {\n",
       "        vertical-align: middle;\n",
       "    }\n",
       "\n",
       "    .dataframe tbody tr th {\n",
       "        vertical-align: top;\n",
       "    }\n",
       "\n",
       "    .dataframe thead th {\n",
       "        text-align: right;\n",
       "    }\n",
       "</style>\n",
       "<table border=\"1\" class=\"dataframe\">\n",
       "  <thead>\n",
       "    <tr style=\"text-align: right;\">\n",
       "      <th></th>\n",
       "      <th>duration</th>\n",
       "      <th>amount</th>\n",
       "      <th>inst_rate</th>\n",
       "      <th>residing_since</th>\n",
       "      <th>age</th>\n",
       "      <th>num_credits</th>\n",
       "      <th>dependents</th>\n",
       "    </tr>\n",
       "  </thead>\n",
       "  <tbody>\n",
       "    <tr>\n",
       "      <th>0</th>\n",
       "      <td>9</td>\n",
       "      <td>1754</td>\n",
       "      <td>6</td>\n",
       "      <td>6</td>\n",
       "      <td>101</td>\n",
       "      <td>3</td>\n",
       "      <td>2</td>\n",
       "    </tr>\n",
       "    <tr>\n",
       "      <th>1</th>\n",
       "      <td>72</td>\n",
       "      <td>8927</td>\n",
       "      <td>3</td>\n",
       "      <td>3</td>\n",
       "      <td>33</td>\n",
       "      <td>2</td>\n",
       "      <td>2</td>\n",
       "    </tr>\n",
       "    <tr>\n",
       "      <th>2</th>\n",
       "      <td>18</td>\n",
       "      <td>3144</td>\n",
       "      <td>3</td>\n",
       "      <td>5</td>\n",
       "      <td>74</td>\n",
       "      <td>2</td>\n",
       "      <td>3</td>\n",
       "    </tr>\n",
       "    <tr>\n",
       "      <th>3</th>\n",
       "      <td>63</td>\n",
       "      <td>11823</td>\n",
       "      <td>3</td>\n",
       "      <td>6</td>\n",
       "      <td>68</td>\n",
       "      <td>2</td>\n",
       "      <td>3</td>\n",
       "    </tr>\n",
       "    <tr>\n",
       "      <th>4</th>\n",
       "      <td>36</td>\n",
       "      <td>7305</td>\n",
       "      <td>5</td>\n",
       "      <td>6</td>\n",
       "      <td>80</td>\n",
       "      <td>3</td>\n",
       "      <td>3</td>\n",
       "    </tr>\n",
       "  </tbody>\n",
       "</table>\n",
       "</div>"
      ],
      "text/plain": [
       "   duration  amount  inst_rate  residing_since  age  num_credits  dependents\n",
       "0         9    1754          6               6  101            3           2\n",
       "1        72    8927          3               3   33            2           2\n",
       "2        18    3144          3               5   74            2           3\n",
       "3        63   11823          3               6   68            2           3\n",
       "4        36    7305          5               6   80            3           3"
      ]
     },
     "execution_count": 78,
     "metadata": {},
     "output_type": "execute_result"
    }
   ],
   "source": [
    "df_num.head()"
   ]
  },
  {
   "cell_type": "code",
   "execution_count": 79,
   "id": "c93374e9",
   "metadata": {},
   "outputs": [],
   "source": [
    "df_new = pd.concat([df_cat,df_num],1)"
   ]
  },
  {
   "cell_type": "code",
   "execution_count": 80,
   "id": "c3129fbb",
   "metadata": {},
   "outputs": [
    {
     "data": {
      "text/html": [
       "<div>\n",
       "<style scoped>\n",
       "    .dataframe tbody tr th:only-of-type {\n",
       "        vertical-align: middle;\n",
       "    }\n",
       "\n",
       "    .dataframe tbody tr th {\n",
       "        vertical-align: top;\n",
       "    }\n",
       "\n",
       "    .dataframe thead th {\n",
       "        text-align: right;\n",
       "    }\n",
       "</style>\n",
       "<table border=\"1\" class=\"dataframe\">\n",
       "  <thead>\n",
       "    <tr style=\"text-align: right;\">\n",
       "      <th></th>\n",
       "      <th>status</th>\n",
       "      <th>checkin_acc_A12</th>\n",
       "      <th>checkin_acc_A13</th>\n",
       "      <th>checkin_acc_A14</th>\n",
       "      <th>credit_history_A31</th>\n",
       "      <th>credit_history_A32</th>\n",
       "      <th>credit_history_A33</th>\n",
       "      <th>credit_history_A34</th>\n",
       "      <th>purpose_A41</th>\n",
       "      <th>purpose_A410</th>\n",
       "      <th>...</th>\n",
       "      <th>job_A174</th>\n",
       "      <th>telephone_A192</th>\n",
       "      <th>foreign_worker_A202</th>\n",
       "      <th>duration</th>\n",
       "      <th>amount</th>\n",
       "      <th>inst_rate</th>\n",
       "      <th>residing_since</th>\n",
       "      <th>age</th>\n",
       "      <th>num_credits</th>\n",
       "      <th>dependents</th>\n",
       "    </tr>\n",
       "  </thead>\n",
       "  <tbody>\n",
       "    <tr>\n",
       "      <th>0</th>\n",
       "      <td>1</td>\n",
       "      <td>0</td>\n",
       "      <td>0</td>\n",
       "      <td>0</td>\n",
       "      <td>0</td>\n",
       "      <td>0</td>\n",
       "      <td>0</td>\n",
       "      <td>1</td>\n",
       "      <td>0</td>\n",
       "      <td>0</td>\n",
       "      <td>...</td>\n",
       "      <td>0</td>\n",
       "      <td>1</td>\n",
       "      <td>0</td>\n",
       "      <td>9</td>\n",
       "      <td>1754</td>\n",
       "      <td>6</td>\n",
       "      <td>6</td>\n",
       "      <td>101</td>\n",
       "      <td>3</td>\n",
       "      <td>2</td>\n",
       "    </tr>\n",
       "    <tr>\n",
       "      <th>1</th>\n",
       "      <td>2</td>\n",
       "      <td>1</td>\n",
       "      <td>0</td>\n",
       "      <td>0</td>\n",
       "      <td>0</td>\n",
       "      <td>1</td>\n",
       "      <td>0</td>\n",
       "      <td>0</td>\n",
       "      <td>0</td>\n",
       "      <td>0</td>\n",
       "      <td>...</td>\n",
       "      <td>0</td>\n",
       "      <td>0</td>\n",
       "      <td>0</td>\n",
       "      <td>72</td>\n",
       "      <td>8927</td>\n",
       "      <td>3</td>\n",
       "      <td>3</td>\n",
       "      <td>33</td>\n",
       "      <td>2</td>\n",
       "      <td>2</td>\n",
       "    </tr>\n",
       "    <tr>\n",
       "      <th>2</th>\n",
       "      <td>1</td>\n",
       "      <td>0</td>\n",
       "      <td>0</td>\n",
       "      <td>1</td>\n",
       "      <td>0</td>\n",
       "      <td>0</td>\n",
       "      <td>0</td>\n",
       "      <td>1</td>\n",
       "      <td>0</td>\n",
       "      <td>0</td>\n",
       "      <td>...</td>\n",
       "      <td>0</td>\n",
       "      <td>0</td>\n",
       "      <td>0</td>\n",
       "      <td>18</td>\n",
       "      <td>3144</td>\n",
       "      <td>3</td>\n",
       "      <td>5</td>\n",
       "      <td>74</td>\n",
       "      <td>2</td>\n",
       "      <td>3</td>\n",
       "    </tr>\n",
       "    <tr>\n",
       "      <th>3</th>\n",
       "      <td>1</td>\n",
       "      <td>0</td>\n",
       "      <td>0</td>\n",
       "      <td>0</td>\n",
       "      <td>0</td>\n",
       "      <td>1</td>\n",
       "      <td>0</td>\n",
       "      <td>0</td>\n",
       "      <td>0</td>\n",
       "      <td>0</td>\n",
       "      <td>...</td>\n",
       "      <td>0</td>\n",
       "      <td>0</td>\n",
       "      <td>0</td>\n",
       "      <td>63</td>\n",
       "      <td>11823</td>\n",
       "      <td>3</td>\n",
       "      <td>6</td>\n",
       "      <td>68</td>\n",
       "      <td>2</td>\n",
       "      <td>3</td>\n",
       "    </tr>\n",
       "    <tr>\n",
       "      <th>4</th>\n",
       "      <td>2</td>\n",
       "      <td>0</td>\n",
       "      <td>0</td>\n",
       "      <td>0</td>\n",
       "      <td>0</td>\n",
       "      <td>0</td>\n",
       "      <td>1</td>\n",
       "      <td>0</td>\n",
       "      <td>0</td>\n",
       "      <td>0</td>\n",
       "      <td>...</td>\n",
       "      <td>0</td>\n",
       "      <td>0</td>\n",
       "      <td>0</td>\n",
       "      <td>36</td>\n",
       "      <td>7305</td>\n",
       "      <td>5</td>\n",
       "      <td>6</td>\n",
       "      <td>80</td>\n",
       "      <td>3</td>\n",
       "      <td>3</td>\n",
       "    </tr>\n",
       "  </tbody>\n",
       "</table>\n",
       "<p>5 rows × 49 columns</p>\n",
       "</div>"
      ],
      "text/plain": [
       "  status  checkin_acc_A12  checkin_acc_A13  checkin_acc_A14  \\\n",
       "0      1                0                0                0   \n",
       "1      2                1                0                0   \n",
       "2      1                0                0                1   \n",
       "3      1                0                0                0   \n",
       "4      2                0                0                0   \n",
       "\n",
       "   credit_history_A31  credit_history_A32  credit_history_A33  \\\n",
       "0                   0                   0                   0   \n",
       "1                   0                   1                   0   \n",
       "2                   0                   0                   0   \n",
       "3                   0                   1                   0   \n",
       "4                   0                   0                   1   \n",
       "\n",
       "   credit_history_A34  purpose_A41  purpose_A410  ...  job_A174  \\\n",
       "0                   1            0             0  ...         0   \n",
       "1                   0            0             0  ...         0   \n",
       "2                   1            0             0  ...         0   \n",
       "3                   0            0             0  ...         0   \n",
       "4                   0            0             0  ...         0   \n",
       "\n",
       "   telephone_A192  foreign_worker_A202  duration  amount  inst_rate  \\\n",
       "0               1                    0         9    1754          6   \n",
       "1               0                    0        72    8927          3   \n",
       "2               0                    0        18    3144          3   \n",
       "3               0                    0        63   11823          3   \n",
       "4               0                    0        36    7305          5   \n",
       "\n",
       "   residing_since  age  num_credits  dependents  \n",
       "0               6  101            3           2  \n",
       "1               3   33            2           2  \n",
       "2               5   74            2           3  \n",
       "3               6   68            2           3  \n",
       "4               6   80            3           3  \n",
       "\n",
       "[5 rows x 49 columns]"
      ]
     },
     "execution_count": 80,
     "metadata": {},
     "output_type": "execute_result"
    }
   ],
   "source": [
    "df_new.head()"
   ]
  },
  {
   "cell_type": "code",
   "execution_count": 82,
   "id": "f90c0dc6",
   "metadata": {},
   "outputs": [],
   "source": [
    "x = df_new.drop(columns = ['status'])\n",
    "y = df_new.status"
   ]
  },
  {
   "cell_type": "code",
   "execution_count": 83,
   "id": "005c522a",
   "metadata": {},
   "outputs": [],
   "source": [
    "y = y.astype(int)"
   ]
  },
  {
   "cell_type": "code",
   "execution_count": 84,
   "id": "644f3b16",
   "metadata": {},
   "outputs": [
    {
     "data": {
      "text/plain": [
       "((700, 48), (300, 48), (700,), (300,))"
      ]
     },
     "execution_count": 84,
     "metadata": {},
     "output_type": "execute_result"
    }
   ],
   "source": [
    "xtrain,xtest,ytrain,ytest = train_test_split(x,y,test_size = 0.30,random_state = 123,stratify = y)\n",
    "xtrain.shape,xtest.shape,ytrain.shape,ytest.shape"
   ]
  },
  {
   "cell_type": "markdown",
   "id": "f7f7f84d",
   "metadata": {},
   "source": [
    "#####  Scaling the numerical variables after splitting into train and test , because test data has to be completely unseen to the trained model."
   ]
  },
  {
   "cell_type": "code",
   "execution_count": 86,
   "id": "7b855d08",
   "metadata": {},
   "outputs": [],
   "source": [
    "from sklearn.preprocessing import MinMaxScaler\n",
    "MM  = MinMaxScaler()"
   ]
  },
  {
   "cell_type": "code",
   "execution_count": 87,
   "id": "25453d2b",
   "metadata": {},
   "outputs": [
    {
     "data": {
      "text/html": [
       "<div>\n",
       "<style scoped>\n",
       "    .dataframe tbody tr th:only-of-type {\n",
       "        vertical-align: middle;\n",
       "    }\n",
       "\n",
       "    .dataframe tbody tr th {\n",
       "        vertical-align: top;\n",
       "    }\n",
       "\n",
       "    .dataframe thead th {\n",
       "        text-align: right;\n",
       "    }\n",
       "</style>\n",
       "<table border=\"1\" class=\"dataframe\">\n",
       "  <thead>\n",
       "    <tr style=\"text-align: right;\">\n",
       "      <th></th>\n",
       "      <th>checkin_acc_A12</th>\n",
       "      <th>checkin_acc_A13</th>\n",
       "      <th>checkin_acc_A14</th>\n",
       "      <th>credit_history_A31</th>\n",
       "      <th>credit_history_A32</th>\n",
       "      <th>credit_history_A33</th>\n",
       "      <th>credit_history_A34</th>\n",
       "      <th>purpose_A41</th>\n",
       "      <th>purpose_A410</th>\n",
       "      <th>purpose_A42</th>\n",
       "      <th>...</th>\n",
       "      <th>job_A174</th>\n",
       "      <th>telephone_A192</th>\n",
       "      <th>foreign_worker_A202</th>\n",
       "      <th>duration</th>\n",
       "      <th>amount</th>\n",
       "      <th>inst_rate</th>\n",
       "      <th>residing_since</th>\n",
       "      <th>age</th>\n",
       "      <th>num_credits</th>\n",
       "      <th>dependents</th>\n",
       "    </tr>\n",
       "  </thead>\n",
       "  <tbody>\n",
       "    <tr>\n",
       "      <th>0</th>\n",
       "      <td>0.0</td>\n",
       "      <td>0.0</td>\n",
       "      <td>0.0</td>\n",
       "      <td>0.0</td>\n",
       "      <td>0.0</td>\n",
       "      <td>0.0</td>\n",
       "      <td>1.0</td>\n",
       "      <td>0.0</td>\n",
       "      <td>0.0</td>\n",
       "      <td>0.0</td>\n",
       "      <td>...</td>\n",
       "      <td>0.0</td>\n",
       "      <td>0.0</td>\n",
       "      <td>0.0</td>\n",
       "      <td>0.142857</td>\n",
       "      <td>0.178790</td>\n",
       "      <td>0.75</td>\n",
       "      <td>0.25</td>\n",
       "      <td>0.178571</td>\n",
       "      <td>0.25</td>\n",
       "      <td>0.0</td>\n",
       "    </tr>\n",
       "    <tr>\n",
       "      <th>1</th>\n",
       "      <td>0.0</td>\n",
       "      <td>0.0</td>\n",
       "      <td>1.0</td>\n",
       "      <td>0.0</td>\n",
       "      <td>0.0</td>\n",
       "      <td>0.0</td>\n",
       "      <td>1.0</td>\n",
       "      <td>0.0</td>\n",
       "      <td>0.0</td>\n",
       "      <td>1.0</td>\n",
       "      <td>...</td>\n",
       "      <td>0.0</td>\n",
       "      <td>1.0</td>\n",
       "      <td>0.0</td>\n",
       "      <td>0.142857</td>\n",
       "      <td>0.092733</td>\n",
       "      <td>1.00</td>\n",
       "      <td>1.00</td>\n",
       "      <td>0.428571</td>\n",
       "      <td>0.75</td>\n",
       "      <td>0.0</td>\n",
       "    </tr>\n",
       "    <tr>\n",
       "      <th>2</th>\n",
       "      <td>0.0</td>\n",
       "      <td>0.0</td>\n",
       "      <td>0.0</td>\n",
       "      <td>0.0</td>\n",
       "      <td>1.0</td>\n",
       "      <td>0.0</td>\n",
       "      <td>0.0</td>\n",
       "      <td>0.0</td>\n",
       "      <td>0.0</td>\n",
       "      <td>0.0</td>\n",
       "      <td>...</td>\n",
       "      <td>1.0</td>\n",
       "      <td>1.0</td>\n",
       "      <td>0.0</td>\n",
       "      <td>0.250000</td>\n",
       "      <td>0.110011</td>\n",
       "      <td>1.00</td>\n",
       "      <td>0.75</td>\n",
       "      <td>0.190476</td>\n",
       "      <td>0.00</td>\n",
       "      <td>1.0</td>\n",
       "    </tr>\n",
       "    <tr>\n",
       "      <th>3</th>\n",
       "      <td>1.0</td>\n",
       "      <td>0.0</td>\n",
       "      <td>0.0</td>\n",
       "      <td>0.0</td>\n",
       "      <td>0.0</td>\n",
       "      <td>0.0</td>\n",
       "      <td>0.0</td>\n",
       "      <td>0.0</td>\n",
       "      <td>0.0</td>\n",
       "      <td>1.0</td>\n",
       "      <td>...</td>\n",
       "      <td>0.0</td>\n",
       "      <td>0.0</td>\n",
       "      <td>0.0</td>\n",
       "      <td>0.142857</td>\n",
       "      <td>0.149628</td>\n",
       "      <td>1.00</td>\n",
       "      <td>0.75</td>\n",
       "      <td>0.107143</td>\n",
       "      <td>0.25</td>\n",
       "      <td>0.0</td>\n",
       "    </tr>\n",
       "    <tr>\n",
       "      <th>4</th>\n",
       "      <td>0.0</td>\n",
       "      <td>1.0</td>\n",
       "      <td>0.0</td>\n",
       "      <td>0.0</td>\n",
       "      <td>1.0</td>\n",
       "      <td>0.0</td>\n",
       "      <td>0.0</td>\n",
       "      <td>0.0</td>\n",
       "      <td>0.0</td>\n",
       "      <td>0.0</td>\n",
       "      <td>...</td>\n",
       "      <td>0.0</td>\n",
       "      <td>1.0</td>\n",
       "      <td>0.0</td>\n",
       "      <td>0.107143</td>\n",
       "      <td>0.053666</td>\n",
       "      <td>0.25</td>\n",
       "      <td>0.25</td>\n",
       "      <td>0.321429</td>\n",
       "      <td>0.00</td>\n",
       "      <td>0.0</td>\n",
       "    </tr>\n",
       "  </tbody>\n",
       "</table>\n",
       "<p>5 rows × 48 columns</p>\n",
       "</div>"
      ],
      "text/plain": [
       "   checkin_acc_A12  checkin_acc_A13  checkin_acc_A14  credit_history_A31  \\\n",
       "0              0.0              0.0              0.0                 0.0   \n",
       "1              0.0              0.0              1.0                 0.0   \n",
       "2              0.0              0.0              0.0                 0.0   \n",
       "3              1.0              0.0              0.0                 0.0   \n",
       "4              0.0              1.0              0.0                 0.0   \n",
       "\n",
       "   credit_history_A32  credit_history_A33  credit_history_A34  purpose_A41  \\\n",
       "0                 0.0                 0.0                 1.0          0.0   \n",
       "1                 0.0                 0.0                 1.0          0.0   \n",
       "2                 1.0                 0.0                 0.0          0.0   \n",
       "3                 0.0                 0.0                 0.0          0.0   \n",
       "4                 1.0                 0.0                 0.0          0.0   \n",
       "\n",
       "   purpose_A410  purpose_A42  ...  job_A174  telephone_A192  \\\n",
       "0           0.0          0.0  ...       0.0             0.0   \n",
       "1           0.0          1.0  ...       0.0             1.0   \n",
       "2           0.0          0.0  ...       1.0             1.0   \n",
       "3           0.0          1.0  ...       0.0             0.0   \n",
       "4           0.0          0.0  ...       0.0             1.0   \n",
       "\n",
       "   foreign_worker_A202  duration    amount  inst_rate  residing_since  \\\n",
       "0                  0.0  0.142857  0.178790       0.75            0.25   \n",
       "1                  0.0  0.142857  0.092733       1.00            1.00   \n",
       "2                  0.0  0.250000  0.110011       1.00            0.75   \n",
       "3                  0.0  0.142857  0.149628       1.00            0.75   \n",
       "4                  0.0  0.107143  0.053666       0.25            0.25   \n",
       "\n",
       "        age  num_credits  dependents  \n",
       "0  0.178571         0.25         0.0  \n",
       "1  0.428571         0.75         0.0  \n",
       "2  0.190476         0.00         1.0  \n",
       "3  0.107143         0.25         0.0  \n",
       "4  0.321429         0.00         0.0  \n",
       "\n",
       "[5 rows x 48 columns]"
      ]
     },
     "execution_count": 87,
     "metadata": {},
     "output_type": "execute_result"
    }
   ],
   "source": [
    "xtrain_s = pd.DataFrame(MM.fit_transform(xtrain),columns = xtrain.columns)\n",
    "xtrain_s.head()"
   ]
  },
  {
   "cell_type": "code",
   "execution_count": 88,
   "id": "a67a33c5",
   "metadata": {},
   "outputs": [
    {
     "data": {
      "text/html": [
       "<div>\n",
       "<style scoped>\n",
       "    .dataframe tbody tr th:only-of-type {\n",
       "        vertical-align: middle;\n",
       "    }\n",
       "\n",
       "    .dataframe tbody tr th {\n",
       "        vertical-align: top;\n",
       "    }\n",
       "\n",
       "    .dataframe thead th {\n",
       "        text-align: right;\n",
       "    }\n",
       "</style>\n",
       "<table border=\"1\" class=\"dataframe\">\n",
       "  <thead>\n",
       "    <tr style=\"text-align: right;\">\n",
       "      <th></th>\n",
       "      <th>checkin_acc_A12</th>\n",
       "      <th>checkin_acc_A13</th>\n",
       "      <th>checkin_acc_A14</th>\n",
       "      <th>credit_history_A31</th>\n",
       "      <th>credit_history_A32</th>\n",
       "      <th>credit_history_A33</th>\n",
       "      <th>credit_history_A34</th>\n",
       "      <th>purpose_A41</th>\n",
       "      <th>purpose_A410</th>\n",
       "      <th>purpose_A42</th>\n",
       "      <th>...</th>\n",
       "      <th>job_A174</th>\n",
       "      <th>telephone_A192</th>\n",
       "      <th>foreign_worker_A202</th>\n",
       "      <th>duration</th>\n",
       "      <th>amount</th>\n",
       "      <th>inst_rate</th>\n",
       "      <th>residing_since</th>\n",
       "      <th>age</th>\n",
       "      <th>num_credits</th>\n",
       "      <th>dependents</th>\n",
       "    </tr>\n",
       "  </thead>\n",
       "  <tbody>\n",
       "    <tr>\n",
       "      <th>0</th>\n",
       "      <td>0.0</td>\n",
       "      <td>0.0</td>\n",
       "      <td>0.0</td>\n",
       "      <td>0.0</td>\n",
       "      <td>1.0</td>\n",
       "      <td>0.0</td>\n",
       "      <td>0.0</td>\n",
       "      <td>0.0</td>\n",
       "      <td>0.0</td>\n",
       "      <td>0.0</td>\n",
       "      <td>...</td>\n",
       "      <td>1.0</td>\n",
       "      <td>0.0</td>\n",
       "      <td>0.0</td>\n",
       "      <td>0.343137</td>\n",
       "      <td>0.200391</td>\n",
       "      <td>0.75</td>\n",
       "      <td>0.25</td>\n",
       "      <td>0.135802</td>\n",
       "      <td>0.00</td>\n",
       "      <td>0.0</td>\n",
       "    </tr>\n",
       "    <tr>\n",
       "      <th>1</th>\n",
       "      <td>0.0</td>\n",
       "      <td>0.0</td>\n",
       "      <td>1.0</td>\n",
       "      <td>0.0</td>\n",
       "      <td>1.0</td>\n",
       "      <td>0.0</td>\n",
       "      <td>0.0</td>\n",
       "      <td>1.0</td>\n",
       "      <td>0.0</td>\n",
       "      <td>0.0</td>\n",
       "      <td>...</td>\n",
       "      <td>1.0</td>\n",
       "      <td>1.0</td>\n",
       "      <td>0.0</td>\n",
       "      <td>0.294118</td>\n",
       "      <td>0.329135</td>\n",
       "      <td>0.25</td>\n",
       "      <td>1.00</td>\n",
       "      <td>0.111111</td>\n",
       "      <td>0.00</td>\n",
       "      <td>0.0</td>\n",
       "    </tr>\n",
       "    <tr>\n",
       "      <th>2</th>\n",
       "      <td>0.0</td>\n",
       "      <td>0.0</td>\n",
       "      <td>0.0</td>\n",
       "      <td>0.0</td>\n",
       "      <td>0.0</td>\n",
       "      <td>0.0</td>\n",
       "      <td>1.0</td>\n",
       "      <td>0.0</td>\n",
       "      <td>0.0</td>\n",
       "      <td>0.0</td>\n",
       "      <td>...</td>\n",
       "      <td>0.0</td>\n",
       "      <td>1.0</td>\n",
       "      <td>0.0</td>\n",
       "      <td>0.029412</td>\n",
       "      <td>0.037270</td>\n",
       "      <td>0.00</td>\n",
       "      <td>1.00</td>\n",
       "      <td>0.358025</td>\n",
       "      <td>0.25</td>\n",
       "      <td>0.0</td>\n",
       "    </tr>\n",
       "    <tr>\n",
       "      <th>3</th>\n",
       "      <td>0.0</td>\n",
       "      <td>0.0</td>\n",
       "      <td>1.0</td>\n",
       "      <td>0.0</td>\n",
       "      <td>0.0</td>\n",
       "      <td>1.0</td>\n",
       "      <td>0.0</td>\n",
       "      <td>0.0</td>\n",
       "      <td>0.0</td>\n",
       "      <td>0.0</td>\n",
       "      <td>...</td>\n",
       "      <td>0.0</td>\n",
       "      <td>1.0</td>\n",
       "      <td>0.0</td>\n",
       "      <td>0.294118</td>\n",
       "      <td>0.028165</td>\n",
       "      <td>1.00</td>\n",
       "      <td>1.00</td>\n",
       "      <td>0.629630</td>\n",
       "      <td>0.25</td>\n",
       "      <td>0.0</td>\n",
       "    </tr>\n",
       "    <tr>\n",
       "      <th>4</th>\n",
       "      <td>1.0</td>\n",
       "      <td>0.0</td>\n",
       "      <td>0.0</td>\n",
       "      <td>0.0</td>\n",
       "      <td>1.0</td>\n",
       "      <td>0.0</td>\n",
       "      <td>0.0</td>\n",
       "      <td>0.0</td>\n",
       "      <td>0.0</td>\n",
       "      <td>0.0</td>\n",
       "      <td>...</td>\n",
       "      <td>0.0</td>\n",
       "      <td>0.0</td>\n",
       "      <td>0.0</td>\n",
       "      <td>0.205882</td>\n",
       "      <td>0.061479</td>\n",
       "      <td>1.00</td>\n",
       "      <td>1.00</td>\n",
       "      <td>0.765432</td>\n",
       "      <td>0.00</td>\n",
       "      <td>0.0</td>\n",
       "    </tr>\n",
       "  </tbody>\n",
       "</table>\n",
       "<p>5 rows × 48 columns</p>\n",
       "</div>"
      ],
      "text/plain": [
       "   checkin_acc_A12  checkin_acc_A13  checkin_acc_A14  credit_history_A31  \\\n",
       "0              0.0              0.0              0.0                 0.0   \n",
       "1              0.0              0.0              1.0                 0.0   \n",
       "2              0.0              0.0              0.0                 0.0   \n",
       "3              0.0              0.0              1.0                 0.0   \n",
       "4              1.0              0.0              0.0                 0.0   \n",
       "\n",
       "   credit_history_A32  credit_history_A33  credit_history_A34  purpose_A41  \\\n",
       "0                 1.0                 0.0                 0.0          0.0   \n",
       "1                 1.0                 0.0                 0.0          1.0   \n",
       "2                 0.0                 0.0                 1.0          0.0   \n",
       "3                 0.0                 1.0                 0.0          0.0   \n",
       "4                 1.0                 0.0                 0.0          0.0   \n",
       "\n",
       "   purpose_A410  purpose_A42  ...  job_A174  telephone_A192  \\\n",
       "0           0.0          0.0  ...       1.0             0.0   \n",
       "1           0.0          0.0  ...       1.0             1.0   \n",
       "2           0.0          0.0  ...       0.0             1.0   \n",
       "3           0.0          0.0  ...       0.0             1.0   \n",
       "4           0.0          0.0  ...       0.0             0.0   \n",
       "\n",
       "   foreign_worker_A202  duration    amount  inst_rate  residing_since  \\\n",
       "0                  0.0  0.343137  0.200391       0.75            0.25   \n",
       "1                  0.0  0.294118  0.329135       0.25            1.00   \n",
       "2                  0.0  0.029412  0.037270       0.00            1.00   \n",
       "3                  0.0  0.294118  0.028165       1.00            1.00   \n",
       "4                  0.0  0.205882  0.061479       1.00            1.00   \n",
       "\n",
       "        age  num_credits  dependents  \n",
       "0  0.135802         0.00         0.0  \n",
       "1  0.111111         0.00         0.0  \n",
       "2  0.358025         0.25         0.0  \n",
       "3  0.629630         0.25         0.0  \n",
       "4  0.765432         0.00         0.0  \n",
       "\n",
       "[5 rows x 48 columns]"
      ]
     },
     "execution_count": 88,
     "metadata": {},
     "output_type": "execute_result"
    }
   ],
   "source": [
    "xtest_s = pd.DataFrame(MM.fit_transform(xtest),columns = xtest.columns)\n",
    "xtest_s.head()"
   ]
  },
  {
   "cell_type": "code",
   "execution_count": 111,
   "id": "3ebd1a2b",
   "metadata": {},
   "outputs": [
    {
     "data": {
      "text/html": [
       "<div>\n",
       "<style scoped>\n",
       "    .dataframe tbody tr th:only-of-type {\n",
       "        vertical-align: middle;\n",
       "    }\n",
       "\n",
       "    .dataframe tbody tr th {\n",
       "        vertical-align: top;\n",
       "    }\n",
       "\n",
       "    .dataframe thead th {\n",
       "        text-align: right;\n",
       "    }\n",
       "</style>\n",
       "<table border=\"1\" class=\"dataframe\">\n",
       "  <thead>\n",
       "    <tr style=\"text-align: right;\">\n",
       "      <th></th>\n",
       "      <th>Model name</th>\n",
       "      <th>Accuracy</th>\n",
       "      <th>F1-Score</th>\n",
       "      <th>Cohen-Kappa</th>\n",
       "    </tr>\n",
       "  </thead>\n",
       "  <tbody>\n",
       "  </tbody>\n",
       "</table>\n",
       "</div>"
      ],
      "text/plain": [
       "Empty DataFrame\n",
       "Columns: [Model name, Accuracy, F1-Score, Cohen-Kappa]\n",
       "Index: []"
      ]
     },
     "execution_count": 111,
     "metadata": {},
     "output_type": "execute_result"
    }
   ],
   "source": [
    "## Creating a score card to evaluate all the model performances\n",
    "score_card = pd.DataFrame(columns = ['Model name','Accuracy','F1-Score','Cohen-Kappa'])\n",
    "score_card"
   ]
  },
  {
   "cell_type": "code",
   "execution_count": 112,
   "id": "e08bf83f",
   "metadata": {},
   "outputs": [],
   "source": [
    "def plot_metrics(xtest,ytest,model):\n",
    "    ypred = model.predict(xtest)\n",
    "    print('Classification Report ')\n",
    "    print(classification_report(ytest,ypred))\n",
    "    print('    Consision Matrix    ')\n",
    "    cm = confusion_matrix(ytest, ypred)\n",
    "    conf_matrix = pd.DataFrame(data = cm,columns = ['Predicted:1','Predicted:2'], index = ['Actual:1','Actual:2'])\n",
    "    sns.heatmap(conf_matrix, annot = True, fmt = 'd', cbar = False, \n",
    "                linewidths = 0.1, annot_kws = {'size':25})\n",
    "    plt.xticks(fontsize = 20)\n",
    "    plt.yticks(fontsize = 20)\n",
    "    plt.show()\n",
    "    \n",
    "    print()\n",
    "    print('Cohen Kappa Score is ',cohen_kappa_score(ytest,ypred))\n",
    "   "
   ]
  },
  {
   "cell_type": "code",
   "execution_count": 113,
   "id": "2b984f2c",
   "metadata": {},
   "outputs": [
    {
     "name": "stdout",
     "output_type": "stream",
     "text": [
      "Classification Report \n",
      "              precision    recall  f1-score   support\n",
      "\n",
      "           1       0.77      0.75      0.76       210\n",
      "           2       0.45      0.47      0.46        90\n",
      "\n",
      "    accuracy                           0.67       300\n",
      "   macro avg       0.61      0.61      0.61       300\n",
      "weighted avg       0.67      0.67      0.67       300\n",
      "\n",
      "    Consision Matrix    \n"
     ]
    },
    {
     "data": {
      "image/png": "[encoded data removed]",
      "text/plain": [
       "<Figure size 432x288 with 1 Axes>"
      ]
     },
     "metadata": {
      "needs_background": "light"
     },
     "output_type": "display_data"
    },
    {
     "name": "stdout",
     "output_type": "stream",
     "text": [
      "\n",
      "Cohen Kappa Score is  0.2163009404388715\n"
     ]
    }
   ],
   "source": [
    "DC = DecisionTreeClassifier(random_state = 1)\n",
    "DC_mod = DC.fit(xtrain_s,ytrain)\n",
    "plot_metrics(xtest_s,ytest,DC_mod)"
   ]
  },
  {
   "cell_type": "code",
   "execution_count": 114,
   "id": "210e81ed",
   "metadata": {},
   "outputs": [
    {
     "data": {
      "text/html": [
       "<div>\n",
       "<style scoped>\n",
       "    .dataframe tbody tr th:only-of-type {\n",
       "        vertical-align: middle;\n",
       "    }\n",
       "\n",
       "    .dataframe tbody tr th {\n",
       "        vertical-align: top;\n",
       "    }\n",
       "\n",
       "    .dataframe thead th {\n",
       "        text-align: right;\n",
       "    }\n",
       "</style>\n",
       "<table border=\"1\" class=\"dataframe\">\n",
       "  <thead>\n",
       "    <tr style=\"text-align: right;\">\n",
       "      <th></th>\n",
       "      <th>Model name</th>\n",
       "      <th>Accuracy</th>\n",
       "      <th>F1-Score</th>\n",
       "      <th>Cohen-Kappa</th>\n",
       "    </tr>\n",
       "  </thead>\n",
       "  <tbody>\n",
       "    <tr>\n",
       "      <th>0</th>\n",
       "      <td>Decision Tree without tuning</td>\n",
       "      <td>0.67</td>\n",
       "      <td>0.76</td>\n",
       "      <td>0.22</td>\n",
       "    </tr>\n",
       "  </tbody>\n",
       "</table>\n",
       "</div>"
      ],
      "text/plain": [
       "                      Model name  Accuracy  F1-Score  Cohen-Kappa\n",
       "0  Decision Tree without tuning       0.67      0.76         0.22"
      ]
     },
     "execution_count": 114,
     "metadata": {},
     "output_type": "execute_result"
    }
   ],
   "source": [
    "ypred_dc = DC_mod.predict(xtest_s)\n",
    "s = pd.Series({'Model name': 'Decision Tree without tuning ','Accuracy': np.round(accuracy_score(ytest,ypred_dc),2),'F1-Score': np.round(f1_score(ytest,ypred_dc),2),'Cohen-Kappa': np.round(cohen_kappa_score(ytest,ypred_dc),2)})\n",
    "score_card = score_card.append(s,ignore_index=True)\n",
    "score_card"
   ]
  },
  {
   "cell_type": "code",
   "execution_count": 115,
   "id": "dddc091a",
   "metadata": {},
   "outputs": [
    {
     "name": "stdout",
     "output_type": "stream",
     "text": [
      "Classification Report \n",
      "              precision    recall  f1-score   support\n",
      "\n",
      "           1       0.77      0.92      0.84       210\n",
      "           2       0.65      0.36      0.46        90\n",
      "\n",
      "    accuracy                           0.75       300\n",
      "   macro avg       0.71      0.64      0.65       300\n",
      "weighted avg       0.73      0.75      0.72       300\n",
      "\n",
      "    Consision Matrix    \n"
     ]
    },
    {
     "data": {
      "image/png": "[encoded data removed]",
      "text/plain": [
       "<Figure size 432x288 with 1 Axes>"
      ]
     },
     "metadata": {
      "needs_background": "light"
     },
     "output_type": "display_data"
    },
    {
     "name": "stdout",
     "output_type": "stream",
     "text": [
      "\n",
      "Cohen Kappa Score is  0.3156934306569342\n"
     ]
    }
   ],
   "source": [
    "RF = RandomForestClassifier()\n",
    "RF_mod = RF.fit(xtrain_s,ytrain)\n",
    "plot_metrics(xtest_s,ytest,RF_mod)"
   ]
  },
  {
   "cell_type": "code",
   "execution_count": 116,
   "id": "94a88a3d",
   "metadata": {},
   "outputs": [
    {
     "data": {
      "text/html": [
       "<div>\n",
       "<style scoped>\n",
       "    .dataframe tbody tr th:only-of-type {\n",
       "        vertical-align: middle;\n",
       "    }\n",
       "\n",
       "    .dataframe tbody tr th {\n",
       "        vertical-align: top;\n",
       "    }\n",
       "\n",
       "    .dataframe thead th {\n",
       "        text-align: right;\n",
       "    }\n",
       "</style>\n",
       "<table border=\"1\" class=\"dataframe\">\n",
       "  <thead>\n",
       "    <tr style=\"text-align: right;\">\n",
       "      <th></th>\n",
       "      <th>Model name</th>\n",
       "      <th>Accuracy</th>\n",
       "      <th>F1-Score</th>\n",
       "      <th>Cohen-Kappa</th>\n",
       "    </tr>\n",
       "  </thead>\n",
       "  <tbody>\n",
       "    <tr>\n",
       "      <th>0</th>\n",
       "      <td>Decision Tree without tuning</td>\n",
       "      <td>0.67</td>\n",
       "      <td>0.76</td>\n",
       "      <td>0.22</td>\n",
       "    </tr>\n",
       "    <tr>\n",
       "      <th>1</th>\n",
       "      <td>Random Sampling without tuning</td>\n",
       "      <td>0.75</td>\n",
       "      <td>0.84</td>\n",
       "      <td>0.32</td>\n",
       "    </tr>\n",
       "  </tbody>\n",
       "</table>\n",
       "</div>"
      ],
      "text/plain": [
       "                        Model name  Accuracy  F1-Score  Cohen-Kappa\n",
       "0    Decision Tree without tuning       0.67      0.76         0.22\n",
       "1  Random Sampling without tuning       0.75      0.84         0.32"
      ]
     },
     "execution_count": 116,
     "metadata": {},
     "output_type": "execute_result"
    }
   ],
   "source": [
    "ypred_rf = RF_mod.predict(xtest_s)\n",
    "s = pd.Series({'Model name': 'Random Sampling without tuning ','Accuracy': np.round(accuracy_score(ytest,ypred_rf),2),'F1-Score': np.round(f1_score(ytest,ypred_rf),2),'Cohen-Kappa': np.round(cohen_kappa_score(ytest,ypred_rf),2)})\n",
    "score_card = score_card.append(s,ignore_index=True)\n",
    "score_card"
   ]
  },
  {
   "cell_type": "code",
   "execution_count": 117,
   "id": "e203ba96",
   "metadata": {},
   "outputs": [
    {
     "name": "stdout",
     "output_type": "stream",
     "text": [
      "Classification Report \n",
      "              precision    recall  f1-score   support\n",
      "\n",
      "           1       0.78      0.86      0.81       210\n",
      "           2       0.56      0.42      0.48        90\n",
      "\n",
      "    accuracy                           0.73       300\n",
      "   macro avg       0.67      0.64      0.65       300\n",
      "weighted avg       0.71      0.73      0.71       300\n",
      "\n",
      "    Consision Matrix    \n"
     ]
    },
    {
     "data": {
      "image/png": "[encoded data removed]",
      "text/plain": [
       "<Figure size 432x288 with 1 Axes>"
      ]
     },
     "metadata": {
      "needs_background": "light"
     },
     "output_type": "display_data"
    },
    {
     "name": "stdout",
     "output_type": "stream",
     "text": [
      "\n",
      "Cohen Kappa Score is  0.30034129692832756\n"
     ]
    }
   ],
   "source": [
    "AD = AdaBoostClassifier()\n",
    "AD_mod = AD.fit(xtrain_s,ytrain)\n",
    "plot_metrics(xtest_s,ytest,AD_mod)"
   ]
  },
  {
   "cell_type": "code",
   "execution_count": 118,
   "id": "23574803",
   "metadata": {},
   "outputs": [
    {
     "data": {
      "text/html": [
       "<div>\n",
       "<style scoped>\n",
       "    .dataframe tbody tr th:only-of-type {\n",
       "        vertical-align: middle;\n",
       "    }\n",
       "\n",
       "    .dataframe tbody tr th {\n",
       "        vertical-align: top;\n",
       "    }\n",
       "\n",
       "    .dataframe thead th {\n",
       "        text-align: right;\n",
       "    }\n",
       "</style>\n",
       "<table border=\"1\" class=\"dataframe\">\n",
       "  <thead>\n",
       "    <tr style=\"text-align: right;\">\n",
       "      <th></th>\n",
       "      <th>Model name</th>\n",
       "      <th>Accuracy</th>\n",
       "      <th>F1-Score</th>\n",
       "      <th>Cohen-Kappa</th>\n",
       "    </tr>\n",
       "  </thead>\n",
       "  <tbody>\n",
       "    <tr>\n",
       "      <th>0</th>\n",
       "      <td>Decision Tree without tuning</td>\n",
       "      <td>0.67</td>\n",
       "      <td>0.76</td>\n",
       "      <td>0.22</td>\n",
       "    </tr>\n",
       "    <tr>\n",
       "      <th>1</th>\n",
       "      <td>Random Sampling without tuning</td>\n",
       "      <td>0.75</td>\n",
       "      <td>0.84</td>\n",
       "      <td>0.32</td>\n",
       "    </tr>\n",
       "    <tr>\n",
       "      <th>2</th>\n",
       "      <td>ADA Boost  without tuning</td>\n",
       "      <td>0.73</td>\n",
       "      <td>0.81</td>\n",
       "      <td>0.30</td>\n",
       "    </tr>\n",
       "  </tbody>\n",
       "</table>\n",
       "</div>"
      ],
      "text/plain": [
       "                        Model name  Accuracy  F1-Score  Cohen-Kappa\n",
       "0    Decision Tree without tuning       0.67      0.76         0.22\n",
       "1  Random Sampling without tuning       0.75      0.84         0.32\n",
       "2       ADA Boost  without tuning       0.73      0.81         0.30"
      ]
     },
     "execution_count": 118,
     "metadata": {},
     "output_type": "execute_result"
    }
   ],
   "source": [
    "ypred_ad = AD_mod.predict(xtest_s)\n",
    "s = pd.Series({'Model name': 'ADA Boost  without tuning ','Accuracy': np.round(accuracy_score(ytest,ypred_ad),2),'F1-Score': np.round(f1_score(ytest,ypred_ad),2),'Cohen-Kappa': np.round(cohen_kappa_score(ytest,ypred_ad),2)})\n",
    "score_card = score_card.append(s,ignore_index=True)\n",
    "score_card"
   ]
  },
  {
   "cell_type": "code",
   "execution_count": 119,
   "id": "bc00d62f",
   "metadata": {},
   "outputs": [
    {
     "name": "stdout",
     "output_type": "stream",
     "text": [
      "Classification Report \n",
      "              precision    recall  f1-score   support\n",
      "\n",
      "           1       0.77      0.89      0.82       210\n",
      "           2       0.58      0.37      0.45        90\n",
      "\n",
      "    accuracy                           0.73       300\n",
      "   macro avg       0.67      0.63      0.64       300\n",
      "weighted avg       0.71      0.73      0.71       300\n",
      "\n",
      "    Consision Matrix    \n"
     ]
    },
    {
     "data": {
      "image/png": "[encoded data removed]",
      "text/plain": [
       "<Figure size 432x288 with 1 Axes>"
      ]
     },
     "metadata": {
      "needs_background": "light"
     },
     "output_type": "display_data"
    },
    {
     "name": "stdout",
     "output_type": "stream",
     "text": [
      "\n",
      "Cohen Kappa Score is  0.2819148936170214\n"
     ]
    }
   ],
   "source": [
    "GB = GradientBoostingClassifier()\n",
    "GB_mod = GB.fit(xtrain_s,ytrain)\n",
    "plot_metrics(xtest_s,ytest,GB_mod)\n"
   ]
  },
  {
   "cell_type": "code",
   "execution_count": 120,
   "id": "692d209c",
   "metadata": {},
   "outputs": [
    {
     "data": {
      "text/html": [
       "<div>\n",
       "<style scoped>\n",
       "    .dataframe tbody tr th:only-of-type {\n",
       "        vertical-align: middle;\n",
       "    }\n",
       "\n",
       "    .dataframe tbody tr th {\n",
       "        vertical-align: top;\n",
       "    }\n",
       "\n",
       "    .dataframe thead th {\n",
       "        text-align: right;\n",
       "    }\n",
       "</style>\n",
       "<table border=\"1\" class=\"dataframe\">\n",
       "  <thead>\n",
       "    <tr style=\"text-align: right;\">\n",
       "      <th></th>\n",
       "      <th>Model name</th>\n",
       "      <th>Accuracy</th>\n",
       "      <th>F1-Score</th>\n",
       "      <th>Cohen-Kappa</th>\n",
       "    </tr>\n",
       "  </thead>\n",
       "  <tbody>\n",
       "    <tr>\n",
       "      <th>0</th>\n",
       "      <td>Decision Tree without tuning</td>\n",
       "      <td>0.67</td>\n",
       "      <td>0.76</td>\n",
       "      <td>0.22</td>\n",
       "    </tr>\n",
       "    <tr>\n",
       "      <th>1</th>\n",
       "      <td>Random Sampling without tuning</td>\n",
       "      <td>0.75</td>\n",
       "      <td>0.84</td>\n",
       "      <td>0.32</td>\n",
       "    </tr>\n",
       "    <tr>\n",
       "      <th>2</th>\n",
       "      <td>ADA Boost  without tuning</td>\n",
       "      <td>0.73</td>\n",
       "      <td>0.81</td>\n",
       "      <td>0.30</td>\n",
       "    </tr>\n",
       "    <tr>\n",
       "      <th>3</th>\n",
       "      <td>Gradient  Boost  without tuning</td>\n",
       "      <td>0.73</td>\n",
       "      <td>0.82</td>\n",
       "      <td>0.28</td>\n",
       "    </tr>\n",
       "  </tbody>\n",
       "</table>\n",
       "</div>"
      ],
      "text/plain": [
       "                         Model name  Accuracy  F1-Score  Cohen-Kappa\n",
       "0     Decision Tree without tuning       0.67      0.76         0.22\n",
       "1   Random Sampling without tuning       0.75      0.84         0.32\n",
       "2        ADA Boost  without tuning       0.73      0.81         0.30\n",
       "3  Gradient  Boost  without tuning       0.73      0.82         0.28"
      ]
     },
     "execution_count": 120,
     "metadata": {},
     "output_type": "execute_result"
    }
   ],
   "source": [
    "ypred_gb = GB_mod.predict(xtest_s)\n",
    "s = pd.Series({'Model name': 'Gradient  Boost  without tuning ','Accuracy': np.round(accuracy_score(ytest,ypred_gb),2),'F1-Score': np.round(f1_score(ytest,ypred_gb),2),'Cohen-Kappa': np.round(cohen_kappa_score(ytest,ypred_gb),2)})\n",
    "score_card = score_card.append(s,ignore_index=True)\n",
    "score_card"
   ]
  },
  {
   "cell_type": "code",
   "execution_count": 121,
   "id": "4cfcf829",
   "metadata": {},
   "outputs": [
    {
     "name": "stdout",
     "output_type": "stream",
     "text": [
      "[16:11:25] WARNING: ..\\src\\learner.cc:1115: Starting in XGBoost 1.3.0, the default evaluation metric used with the objective 'binary:logistic' was changed from 'error' to 'logloss'. Explicitly set eval_metric if you'd like to restore the old behavior.\n",
      "Classification Report \n",
      "              precision    recall  f1-score   support\n",
      "\n",
      "           1       0.80      0.86      0.83       210\n",
      "           2       0.61      0.50      0.55        90\n",
      "\n",
      "    accuracy                           0.75       300\n",
      "   macro avg       0.70      0.68      0.69       300\n",
      "weighted avg       0.74      0.75      0.75       300\n",
      "\n",
      "    Consision Matrix    \n"
     ]
    },
    {
     "data": {
      "image/png": "[encoded data removed]",
      "text/plain": [
       "<Figure size 432x288 with 1 Axes>"
      ]
     },
     "metadata": {
      "needs_background": "light"
     },
     "output_type": "display_data"
    },
    {
     "name": "stdout",
     "output_type": "stream",
     "text": [
      "\n",
      "Cohen Kappa Score is  0.3812709030100334\n"
     ]
    }
   ],
   "source": [
    "import xgboost as xgb\n",
    "xgb_cl = xgb.XGBClassifier()\n",
    "XG_mod = xgb_cl.fit(xtrain_s,ytrain)\n",
    "plot_metrics(xtest_s,ytest,XG_mod)\n"
   ]
  },
  {
   "cell_type": "code",
   "execution_count": 122,
   "id": "963c750e",
   "metadata": {},
   "outputs": [
    {
     "data": {
      "text/html": [
       "<div>\n",
       "<style scoped>\n",
       "    .dataframe tbody tr th:only-of-type {\n",
       "        vertical-align: middle;\n",
       "    }\n",
       "\n",
       "    .dataframe tbody tr th {\n",
       "        vertical-align: top;\n",
       "    }\n",
       "\n",
       "    .dataframe thead th {\n",
       "        text-align: right;\n",
       "    }\n",
       "</style>\n",
       "<table border=\"1\" class=\"dataframe\">\n",
       "  <thead>\n",
       "    <tr style=\"text-align: right;\">\n",
       "      <th></th>\n",
       "      <th>Model name</th>\n",
       "      <th>Accuracy</th>\n",
       "      <th>F1-Score</th>\n",
       "      <th>Cohen-Kappa</th>\n",
       "    </tr>\n",
       "  </thead>\n",
       "  <tbody>\n",
       "    <tr>\n",
       "      <th>0</th>\n",
       "      <td>Decision Tree without tuning</td>\n",
       "      <td>0.67</td>\n",
       "      <td>0.76</td>\n",
       "      <td>0.22</td>\n",
       "    </tr>\n",
       "    <tr>\n",
       "      <th>1</th>\n",
       "      <td>Random Sampling without tuning</td>\n",
       "      <td>0.75</td>\n",
       "      <td>0.84</td>\n",
       "      <td>0.32</td>\n",
       "    </tr>\n",
       "    <tr>\n",
       "      <th>2</th>\n",
       "      <td>ADA Boost  without tuning</td>\n",
       "      <td>0.73</td>\n",
       "      <td>0.81</td>\n",
       "      <td>0.30</td>\n",
       "    </tr>\n",
       "    <tr>\n",
       "      <th>3</th>\n",
       "      <td>Gradient  Boost  without tuning</td>\n",
       "      <td>0.73</td>\n",
       "      <td>0.82</td>\n",
       "      <td>0.28</td>\n",
       "    </tr>\n",
       "    <tr>\n",
       "      <th>4</th>\n",
       "      <td>Extreme Gradient Boost  without tuning</td>\n",
       "      <td>0.75</td>\n",
       "      <td>0.83</td>\n",
       "      <td>0.38</td>\n",
       "    </tr>\n",
       "  </tbody>\n",
       "</table>\n",
       "</div>"
      ],
      "text/plain": [
       "                                Model name  Accuracy  F1-Score  Cohen-Kappa\n",
       "0            Decision Tree without tuning       0.67      0.76         0.22\n",
       "1          Random Sampling without tuning       0.75      0.84         0.32\n",
       "2               ADA Boost  without tuning       0.73      0.81         0.30\n",
       "3         Gradient  Boost  without tuning       0.73      0.82         0.28\n",
       "4  Extreme Gradient Boost  without tuning       0.75      0.83         0.38"
      ]
     },
     "execution_count": 122,
     "metadata": {},
     "output_type": "execute_result"
    }
   ],
   "source": [
    "ypred_xg = XG_mod.predict(xtest_s)\n",
    "s = pd.Series({'Model name': 'Extreme Gradient Boost  without tuning ','Accuracy': np.round(accuracy_score(ytest,ypred_xg),2),'F1-Score': np.round(f1_score(ytest,ypred_xg),2),'Cohen-Kappa': np.round(cohen_kappa_score(ytest,ypred_xg),2)})\n",
    "score_card = score_card.append(s,ignore_index=True)\n",
    "score_card"
   ]
  },
  {
   "cell_type": "markdown",
   "id": "124e0518",
   "metadata": {},
   "source": [
    "#### The f1-score for 2 (ie status = 2,defaulters ) has really been very low is less than 48% , This is majorly because the dataset is hugely imbalanced.We can overcome this by using either one of three techniques(Upsampling,Downsampimg,SMOTE).Lets try all the three and obtain the model that would predict the defaulters to decent percentage."
   ]
  },
  {
   "cell_type": "code",
   "execution_count": 124,
   "id": "415e91c5",
   "metadata": {},
   "outputs": [
    {
     "data": {
      "text/plain": [
       "(1000, 49)"
      ]
     },
     "execution_count": 124,
     "metadata": {},
     "output_type": "execute_result"
    }
   ],
   "source": [
    "df_new.shape"
   ]
  },
  {
   "cell_type": "code",
   "execution_count": 125,
   "id": "dae44393",
   "metadata": {},
   "outputs": [
    {
     "data": {
      "text/plain": [
       "1    700\n",
       "2    300\n",
       "Name: status, dtype: int64"
      ]
     },
     "execution_count": 125,
     "metadata": {},
     "output_type": "execute_result"
    }
   ],
   "source": [
    "df_new['status'].value_counts()"
   ]
  },
  {
   "cell_type": "markdown",
   "id": "300e576a",
   "metadata": {},
   "source": [
    "#### Downsampling the majority class "
   ]
  },
  {
   "cell_type": "code",
   "execution_count": 126,
   "id": "6fb0a0c1",
   "metadata": {},
   "outputs": [],
   "source": [
    "df_1 = df_new[df_new['status']==1].sample(500)\n",
    "df_2 = df_new[df_new['status']==2]"
   ]
  },
  {
   "cell_type": "code",
   "execution_count": 127,
   "id": "c53d8f4b",
   "metadata": {},
   "outputs": [
    {
     "data": {
      "text/plain": [
       "((500, 49), (300, 49))"
      ]
     },
     "execution_count": 127,
     "metadata": {},
     "output_type": "execute_result"
    }
   ],
   "source": [
    "df_1.shape,df_2.shape"
   ]
  },
  {
   "cell_type": "code",
   "execution_count": 128,
   "id": "e8322857",
   "metadata": {},
   "outputs": [],
   "source": [
    "df_down = pd.concat([df_1,df_2],axis = 0,keys= df_1.columns ,ignore_index = True )"
   ]
  },
  {
   "cell_type": "code",
   "execution_count": 129,
   "id": "a76f8a18",
   "metadata": {},
   "outputs": [
    {
     "data": {
      "text/plain": [
       "(800, 49)"
      ]
     },
     "execution_count": 129,
     "metadata": {},
     "output_type": "execute_result"
    }
   ],
   "source": [
    "df_down.shape"
   ]
  },
  {
   "cell_type": "code",
   "execution_count": 130,
   "id": "a72fe7e3",
   "metadata": {},
   "outputs": [],
   "source": [
    "x = df_down.drop(columns = ['status'])\n",
    "y = df_down.status\n"
   ]
  },
  {
   "cell_type": "code",
   "execution_count": 131,
   "id": "bd4ee5cc",
   "metadata": {},
   "outputs": [],
   "source": [
    "y = y.astype('int')"
   ]
  },
  {
   "cell_type": "code",
   "execution_count": 132,
   "id": "e484209a",
   "metadata": {},
   "outputs": [
    {
     "data": {
      "text/plain": [
       "((560, 48), (240, 48), (560,), (240,))"
      ]
     },
     "execution_count": 132,
     "metadata": {},
     "output_type": "execute_result"
    }
   ],
   "source": [
    "xtrain,xtest,ytrain,ytest = train_test_split(x,y,test_size = 0.30,random_state = 123,stratify = y)\n",
    "xtrain.shape,xtest.shape,ytrain.shape,ytest.shape"
   ]
  },
  {
   "cell_type": "code",
   "execution_count": 133,
   "id": "c2290b0b",
   "metadata": {},
   "outputs": [
    {
     "data": {
      "text/html": [
       "<div>\n",
       "<style scoped>\n",
       "    .dataframe tbody tr th:only-of-type {\n",
       "        vertical-align: middle;\n",
       "    }\n",
       "\n",
       "    .dataframe tbody tr th {\n",
       "        vertical-align: top;\n",
       "    }\n",
       "\n",
       "    .dataframe thead th {\n",
       "        text-align: right;\n",
       "    }\n",
       "</style>\n",
       "<table border=\"1\" class=\"dataframe\">\n",
       "  <thead>\n",
       "    <tr style=\"text-align: right;\">\n",
       "      <th></th>\n",
       "      <th>checkin_acc_A12</th>\n",
       "      <th>checkin_acc_A13</th>\n",
       "      <th>checkin_acc_A14</th>\n",
       "      <th>credit_history_A31</th>\n",
       "      <th>credit_history_A32</th>\n",
       "      <th>credit_history_A33</th>\n",
       "      <th>credit_history_A34</th>\n",
       "      <th>purpose_A41</th>\n",
       "      <th>purpose_A410</th>\n",
       "      <th>purpose_A42</th>\n",
       "      <th>...</th>\n",
       "      <th>job_A174</th>\n",
       "      <th>telephone_A192</th>\n",
       "      <th>foreign_worker_A202</th>\n",
       "      <th>duration</th>\n",
       "      <th>amount</th>\n",
       "      <th>inst_rate</th>\n",
       "      <th>residing_since</th>\n",
       "      <th>age</th>\n",
       "      <th>num_credits</th>\n",
       "      <th>dependents</th>\n",
       "    </tr>\n",
       "  </thead>\n",
       "  <tbody>\n",
       "    <tr>\n",
       "      <th>0</th>\n",
       "      <td>0.0</td>\n",
       "      <td>0.0</td>\n",
       "      <td>1.0</td>\n",
       "      <td>0.0</td>\n",
       "      <td>1.0</td>\n",
       "      <td>0.0</td>\n",
       "      <td>0.0</td>\n",
       "      <td>0.0</td>\n",
       "      <td>0.0</td>\n",
       "      <td>0.0</td>\n",
       "      <td>...</td>\n",
       "      <td>1.0</td>\n",
       "      <td>1.0</td>\n",
       "      <td>0.0</td>\n",
       "      <td>0.117647</td>\n",
       "      <td>0.102344</td>\n",
       "      <td>1.00</td>\n",
       "      <td>1.00</td>\n",
       "      <td>0.583333</td>\n",
       "      <td>0.00</td>\n",
       "      <td>0.0</td>\n",
       "    </tr>\n",
       "    <tr>\n",
       "      <th>1</th>\n",
       "      <td>0.0</td>\n",
       "      <td>0.0</td>\n",
       "      <td>1.0</td>\n",
       "      <td>0.0</td>\n",
       "      <td>0.0</td>\n",
       "      <td>0.0</td>\n",
       "      <td>1.0</td>\n",
       "      <td>1.0</td>\n",
       "      <td>0.0</td>\n",
       "      <td>0.0</td>\n",
       "      <td>...</td>\n",
       "      <td>0.0</td>\n",
       "      <td>0.0</td>\n",
       "      <td>0.0</td>\n",
       "      <td>0.294118</td>\n",
       "      <td>0.304607</td>\n",
       "      <td>1.00</td>\n",
       "      <td>0.25</td>\n",
       "      <td>0.142857</td>\n",
       "      <td>0.25</td>\n",
       "      <td>0.0</td>\n",
       "    </tr>\n",
       "    <tr>\n",
       "      <th>2</th>\n",
       "      <td>0.0</td>\n",
       "      <td>0.0</td>\n",
       "      <td>1.0</td>\n",
       "      <td>0.0</td>\n",
       "      <td>1.0</td>\n",
       "      <td>0.0</td>\n",
       "      <td>0.0</td>\n",
       "      <td>0.0</td>\n",
       "      <td>0.0</td>\n",
       "      <td>0.0</td>\n",
       "      <td>...</td>\n",
       "      <td>1.0</td>\n",
       "      <td>1.0</td>\n",
       "      <td>0.0</td>\n",
       "      <td>0.117647</td>\n",
       "      <td>0.092976</td>\n",
       "      <td>1.00</td>\n",
       "      <td>0.25</td>\n",
       "      <td>0.214286</td>\n",
       "      <td>0.25</td>\n",
       "      <td>1.0</td>\n",
       "    </tr>\n",
       "    <tr>\n",
       "      <th>3</th>\n",
       "      <td>0.0</td>\n",
       "      <td>0.0</td>\n",
       "      <td>1.0</td>\n",
       "      <td>0.0</td>\n",
       "      <td>1.0</td>\n",
       "      <td>0.0</td>\n",
       "      <td>0.0</td>\n",
       "      <td>0.0</td>\n",
       "      <td>0.0</td>\n",
       "      <td>0.0</td>\n",
       "      <td>...</td>\n",
       "      <td>0.0</td>\n",
       "      <td>1.0</td>\n",
       "      <td>0.0</td>\n",
       "      <td>0.117647</td>\n",
       "      <td>0.061568</td>\n",
       "      <td>1.00</td>\n",
       "      <td>1.00</td>\n",
       "      <td>0.500000</td>\n",
       "      <td>0.75</td>\n",
       "      <td>1.0</td>\n",
       "    </tr>\n",
       "    <tr>\n",
       "      <th>4</th>\n",
       "      <td>0.0</td>\n",
       "      <td>1.0</td>\n",
       "      <td>0.0</td>\n",
       "      <td>0.0</td>\n",
       "      <td>1.0</td>\n",
       "      <td>0.0</td>\n",
       "      <td>0.0</td>\n",
       "      <td>0.0</td>\n",
       "      <td>0.0</td>\n",
       "      <td>0.0</td>\n",
       "      <td>...</td>\n",
       "      <td>0.0</td>\n",
       "      <td>0.0</td>\n",
       "      <td>0.0</td>\n",
       "      <td>0.078431</td>\n",
       "      <td>0.025861</td>\n",
       "      <td>0.75</td>\n",
       "      <td>0.25</td>\n",
       "      <td>0.154762</td>\n",
       "      <td>0.00</td>\n",
       "      <td>0.0</td>\n",
       "    </tr>\n",
       "  </tbody>\n",
       "</table>\n",
       "<p>5 rows × 48 columns</p>\n",
       "</div>"
      ],
      "text/plain": [
       "   checkin_acc_A12  checkin_acc_A13  checkin_acc_A14  credit_history_A31  \\\n",
       "0              0.0              0.0              1.0                 0.0   \n",
       "1              0.0              0.0              1.0                 0.0   \n",
       "2              0.0              0.0              1.0                 0.0   \n",
       "3              0.0              0.0              1.0                 0.0   \n",
       "4              0.0              1.0              0.0                 0.0   \n",
       "\n",
       "   credit_history_A32  credit_history_A33  credit_history_A34  purpose_A41  \\\n",
       "0                 1.0                 0.0                 0.0          0.0   \n",
       "1                 0.0                 0.0                 1.0          1.0   \n",
       "2                 1.0                 0.0                 0.0          0.0   \n",
       "3                 1.0                 0.0                 0.0          0.0   \n",
       "4                 1.0                 0.0                 0.0          0.0   \n",
       "\n",
       "   purpose_A410  purpose_A42  ...  job_A174  telephone_A192  \\\n",
       "0           0.0          0.0  ...       1.0             1.0   \n",
       "1           0.0          0.0  ...       0.0             0.0   \n",
       "2           0.0          0.0  ...       1.0             1.0   \n",
       "3           0.0          0.0  ...       0.0             1.0   \n",
       "4           0.0          0.0  ...       0.0             0.0   \n",
       "\n",
       "   foreign_worker_A202  duration    amount  inst_rate  residing_since  \\\n",
       "0                  0.0  0.117647  0.102344       1.00            1.00   \n",
       "1                  0.0  0.294118  0.304607       1.00            0.25   \n",
       "2                  0.0  0.117647  0.092976       1.00            0.25   \n",
       "3                  0.0  0.117647  0.061568       1.00            1.00   \n",
       "4                  0.0  0.078431  0.025861       0.75            0.25   \n",
       "\n",
       "        age  num_credits  dependents  \n",
       "0  0.583333         0.00         0.0  \n",
       "1  0.142857         0.25         0.0  \n",
       "2  0.214286         0.25         1.0  \n",
       "3  0.500000         0.75         1.0  \n",
       "4  0.154762         0.00         0.0  \n",
       "\n",
       "[5 rows x 48 columns]"
      ]
     },
     "execution_count": 133,
     "metadata": {},
     "output_type": "execute_result"
    }
   ],
   "source": [
    "xtrain_s = pd.DataFrame(MM.fit_transform(xtrain),columns = xtrain.columns)\n",
    "xtrain_s.head()"
   ]
  },
  {
   "cell_type": "code",
   "execution_count": 134,
   "id": "fa27859c",
   "metadata": {},
   "outputs": [
    {
     "data": {
      "text/html": [
       "<div>\n",
       "<style scoped>\n",
       "    .dataframe tbody tr th:only-of-type {\n",
       "        vertical-align: middle;\n",
       "    }\n",
       "\n",
       "    .dataframe tbody tr th {\n",
       "        vertical-align: top;\n",
       "    }\n",
       "\n",
       "    .dataframe thead th {\n",
       "        text-align: right;\n",
       "    }\n",
       "</style>\n",
       "<table border=\"1\" class=\"dataframe\">\n",
       "  <thead>\n",
       "    <tr style=\"text-align: right;\">\n",
       "      <th></th>\n",
       "      <th>checkin_acc_A12</th>\n",
       "      <th>checkin_acc_A13</th>\n",
       "      <th>checkin_acc_A14</th>\n",
       "      <th>credit_history_A31</th>\n",
       "      <th>credit_history_A32</th>\n",
       "      <th>credit_history_A33</th>\n",
       "      <th>credit_history_A34</th>\n",
       "      <th>purpose_A41</th>\n",
       "      <th>purpose_A410</th>\n",
       "      <th>purpose_A42</th>\n",
       "      <th>...</th>\n",
       "      <th>job_A174</th>\n",
       "      <th>telephone_A192</th>\n",
       "      <th>foreign_worker_A202</th>\n",
       "      <th>duration</th>\n",
       "      <th>amount</th>\n",
       "      <th>inst_rate</th>\n",
       "      <th>residing_since</th>\n",
       "      <th>age</th>\n",
       "      <th>num_credits</th>\n",
       "      <th>dependents</th>\n",
       "    </tr>\n",
       "  </thead>\n",
       "  <tbody>\n",
       "    <tr>\n",
       "      <th>0</th>\n",
       "      <td>0.0</td>\n",
       "      <td>0.0</td>\n",
       "      <td>1.0</td>\n",
       "      <td>0.0</td>\n",
       "      <td>0.0</td>\n",
       "      <td>1.0</td>\n",
       "      <td>0.0</td>\n",
       "      <td>0.0</td>\n",
       "      <td>0.0</td>\n",
       "      <td>0.0</td>\n",
       "      <td>...</td>\n",
       "      <td>0.0</td>\n",
       "      <td>0.0</td>\n",
       "      <td>0.0</td>\n",
       "      <td>0.464286</td>\n",
       "      <td>0.261112</td>\n",
       "      <td>0.25</td>\n",
       "      <td>0.25</td>\n",
       "      <td>0.121951</td>\n",
       "      <td>0.25</td>\n",
       "      <td>0.0</td>\n",
       "    </tr>\n",
       "    <tr>\n",
       "      <th>1</th>\n",
       "      <td>0.0</td>\n",
       "      <td>1.0</td>\n",
       "      <td>0.0</td>\n",
       "      <td>0.0</td>\n",
       "      <td>0.0</td>\n",
       "      <td>0.0</td>\n",
       "      <td>1.0</td>\n",
       "      <td>0.0</td>\n",
       "      <td>0.0</td>\n",
       "      <td>0.0</td>\n",
       "      <td>...</td>\n",
       "      <td>0.0</td>\n",
       "      <td>1.0</td>\n",
       "      <td>0.0</td>\n",
       "      <td>0.142857</td>\n",
       "      <td>0.044752</td>\n",
       "      <td>1.00</td>\n",
       "      <td>0.25</td>\n",
       "      <td>0.158537</td>\n",
       "      <td>0.75</td>\n",
       "      <td>0.0</td>\n",
       "    </tr>\n",
       "    <tr>\n",
       "      <th>2</th>\n",
       "      <td>0.0</td>\n",
       "      <td>0.0</td>\n",
       "      <td>1.0</td>\n",
       "      <td>0.0</td>\n",
       "      <td>0.0</td>\n",
       "      <td>0.0</td>\n",
       "      <td>1.0</td>\n",
       "      <td>0.0</td>\n",
       "      <td>0.0</td>\n",
       "      <td>1.0</td>\n",
       "      <td>...</td>\n",
       "      <td>0.0</td>\n",
       "      <td>1.0</td>\n",
       "      <td>0.0</td>\n",
       "      <td>0.571429</td>\n",
       "      <td>0.446483</td>\n",
       "      <td>0.25</td>\n",
       "      <td>1.00</td>\n",
       "      <td>0.073171</td>\n",
       "      <td>0.25</td>\n",
       "      <td>0.0</td>\n",
       "    </tr>\n",
       "    <tr>\n",
       "      <th>3</th>\n",
       "      <td>1.0</td>\n",
       "      <td>0.0</td>\n",
       "      <td>0.0</td>\n",
       "      <td>0.0</td>\n",
       "      <td>0.0</td>\n",
       "      <td>0.0</td>\n",
       "      <td>1.0</td>\n",
       "      <td>0.0</td>\n",
       "      <td>0.0</td>\n",
       "      <td>0.0</td>\n",
       "      <td>...</td>\n",
       "      <td>0.0</td>\n",
       "      <td>0.0</td>\n",
       "      <td>0.0</td>\n",
       "      <td>0.309524</td>\n",
       "      <td>0.220861</td>\n",
       "      <td>0.25</td>\n",
       "      <td>0.75</td>\n",
       "      <td>0.146341</td>\n",
       "      <td>0.25</td>\n",
       "      <td>0.0</td>\n",
       "    </tr>\n",
       "    <tr>\n",
       "      <th>4</th>\n",
       "      <td>0.0</td>\n",
       "      <td>0.0</td>\n",
       "      <td>0.0</td>\n",
       "      <td>0.0</td>\n",
       "      <td>1.0</td>\n",
       "      <td>0.0</td>\n",
       "      <td>0.0</td>\n",
       "      <td>0.0</td>\n",
       "      <td>0.0</td>\n",
       "      <td>0.0</td>\n",
       "      <td>...</td>\n",
       "      <td>0.0</td>\n",
       "      <td>1.0</td>\n",
       "      <td>0.0</td>\n",
       "      <td>0.785714</td>\n",
       "      <td>0.422506</td>\n",
       "      <td>0.75</td>\n",
       "      <td>0.25</td>\n",
       "      <td>0.219512</td>\n",
       "      <td>0.00</td>\n",
       "      <td>0.0</td>\n",
       "    </tr>\n",
       "  </tbody>\n",
       "</table>\n",
       "<p>5 rows × 48 columns</p>\n",
       "</div>"
      ],
      "text/plain": [
       "   checkin_acc_A12  checkin_acc_A13  checkin_acc_A14  credit_history_A31  \\\n",
       "0              0.0              0.0              1.0                 0.0   \n",
       "1              0.0              1.0              0.0                 0.0   \n",
       "2              0.0              0.0              1.0                 0.0   \n",
       "3              1.0              0.0              0.0                 0.0   \n",
       "4              0.0              0.0              0.0                 0.0   \n",
       "\n",
       "   credit_history_A32  credit_history_A33  credit_history_A34  purpose_A41  \\\n",
       "0                 0.0                 1.0                 0.0          0.0   \n",
       "1                 0.0                 0.0                 1.0          0.0   \n",
       "2                 0.0                 0.0                 1.0          0.0   \n",
       "3                 0.0                 0.0                 1.0          0.0   \n",
       "4                 1.0                 0.0                 0.0          0.0   \n",
       "\n",
       "   purpose_A410  purpose_A42  ...  job_A174  telephone_A192  \\\n",
       "0           0.0          0.0  ...       0.0             0.0   \n",
       "1           0.0          0.0  ...       0.0             1.0   \n",
       "2           0.0          1.0  ...       0.0             1.0   \n",
       "3           0.0          0.0  ...       0.0             0.0   \n",
       "4           0.0          0.0  ...       0.0             1.0   \n",
       "\n",
       "   foreign_worker_A202  duration    amount  inst_rate  residing_since  \\\n",
       "0                  0.0  0.464286  0.261112       0.25            0.25   \n",
       "1                  0.0  0.142857  0.044752       1.00            0.25   \n",
       "2                  0.0  0.571429  0.446483       0.25            1.00   \n",
       "3                  0.0  0.309524  0.220861       0.25            0.75   \n",
       "4                  0.0  0.785714  0.422506       0.75            0.25   \n",
       "\n",
       "        age  num_credits  dependents  \n",
       "0  0.121951         0.25         0.0  \n",
       "1  0.158537         0.75         0.0  \n",
       "2  0.073171         0.25         0.0  \n",
       "3  0.146341         0.25         0.0  \n",
       "4  0.219512         0.00         0.0  \n",
       "\n",
       "[5 rows x 48 columns]"
      ]
     },
     "execution_count": 134,
     "metadata": {},
     "output_type": "execute_result"
    }
   ],
   "source": [
    "xtest_s = pd.DataFrame(MM.fit_transform(xtest),columns = xtest.columns)\n",
    "xtest_s.head()"
   ]
  },
  {
   "cell_type": "code",
   "execution_count": 135,
   "id": "28aefdc9",
   "metadata": {},
   "outputs": [
    {
     "name": "stdout",
     "output_type": "stream",
     "text": [
      "Classification Report \n",
      "              precision    recall  f1-score   support\n",
      "\n",
      "           1       0.76      0.75      0.76       150\n",
      "           2       0.60      0.61      0.60        90\n",
      "\n",
      "    accuracy                           0.70       240\n",
      "   macro avg       0.68      0.68      0.68       240\n",
      "weighted avg       0.70      0.70      0.70       240\n",
      "\n",
      "    Consision Matrix    \n"
     ]
    },
    {
     "data": {
      "image/png": "[encoded data removed]",
      "text/plain": [
       "<Figure size 432x288 with 1 Axes>"
      ]
     },
     "metadata": {
      "needs_background": "light"
     },
     "output_type": "display_data"
    },
    {
     "name": "stdout",
     "output_type": "stream",
     "text": [
      "\n",
      "Cohen Kappa Score is  0.36283185840707965\n"
     ]
    }
   ],
   "source": [
    "RF = RandomForestClassifier()\n",
    "RF_mod = RF.fit(xtrain_s,ytrain)\n",
    "plot_metrics(xtest_s,ytest,RF_mod)"
   ]
  },
  {
   "cell_type": "code",
   "execution_count": 136,
   "id": "44b262b7",
   "metadata": {},
   "outputs": [
    {
     "name": "stdout",
     "output_type": "stream",
     "text": [
      "[16:16:22] WARNING: ..\\src\\learner.cc:1115: Starting in XGBoost 1.3.0, the default evaluation metric used with the objective 'binary:logistic' was changed from 'error' to 'logloss'. Explicitly set eval_metric if you'd like to restore the old behavior.\n",
      "Classification Report \n",
      "              precision    recall  f1-score   support\n",
      "\n",
      "           1       0.74      0.73      0.73       150\n",
      "           2       0.55      0.57      0.56        90\n",
      "\n",
      "    accuracy                           0.67       240\n",
      "   macro avg       0.65      0.65      0.65       240\n",
      "weighted avg       0.67      0.67      0.67       240\n",
      "\n",
      "    Consision Matrix    \n"
     ]
    },
    {
     "data": {
      "image/png": "[encoded data removed]",
      "text/plain": [
       "<Figure size 432x288 with 1 Axes>"
      ]
     },
     "metadata": {
      "needs_background": "light"
     },
     "output_type": "display_data"
    },
    {
     "name": "stdout",
     "output_type": "stream",
     "text": [
      "\n",
      "Cohen Kappa Score is  0.2920353982300885\n"
     ]
    }
   ],
   "source": [
    "import xgboost as xgb\n",
    "xgb_cl = xgb.XGBClassifier()\n",
    "XG_mod = xgb_cl.fit(xtrain_s,ytrain)\n",
    "plot_metrics(xtest_s,ytest,XG_mod)\n"
   ]
  },
  {
   "cell_type": "code",
   "execution_count": 137,
   "id": "1f4a1c7a",
   "metadata": {},
   "outputs": [
    {
     "name": "stdout",
     "output_type": "stream",
     "text": [
      "Classification Report \n",
      "              precision    recall  f1-score   support\n",
      "\n",
      "           1       0.73      0.73      0.73       150\n",
      "           2       0.55      0.56      0.55        90\n",
      "\n",
      "    accuracy                           0.66       240\n",
      "   macro avg       0.64      0.64      0.64       240\n",
      "weighted avg       0.66      0.66      0.66       240\n",
      "\n",
      "    Consision Matrix    \n"
     ]
    },
    {
     "data": {
      "image/png": "[encoded data removed]",
      "text/plain": [
       "<Figure size 432x288 with 1 Axes>"
      ]
     },
     "metadata": {
      "needs_background": "light"
     },
     "output_type": "display_data"
    },
    {
     "name": "stdout",
     "output_type": "stream",
     "text": [
      "\n",
      "Cohen Kappa Score is  0.28159645232815966\n"
     ]
    }
   ],
   "source": [
    "DC = DecisionTreeClassifier(random_state = 1)\n",
    "DC_mod = DC.fit(xtrain_s,ytrain)\n",
    "plot_metrics(xtest_s,ytest,DC_mod)"
   ]
  },
  {
   "cell_type": "code",
   "execution_count": null,
   "id": "705cb90d",
   "metadata": {},
   "outputs": [],
   "source": [
    "## So far XGBOOST is giving the maximum f1-score of 56% for 2(ie defaulters)\n"
   ]
  },
  {
   "cell_type": "markdown",
   "id": "80201925",
   "metadata": {},
   "source": [
    "#### Upsampling the minority class"
   ]
  },
  {
   "cell_type": "code",
   "execution_count": 138,
   "id": "5625da62",
   "metadata": {},
   "outputs": [],
   "source": [
    "df_1 = df_new[df_new['status']==1]\n",
    "df_2 = df_new[df_new['status']==2].sample(500,replace = True)"
   ]
  },
  {
   "cell_type": "code",
   "execution_count": 139,
   "id": "b27287a1",
   "metadata": {},
   "outputs": [],
   "source": [
    "df_up = pd.concat([df_1,df_2],axis = 0,keys = df_1.columns,ignore_index = True)"
   ]
  },
  {
   "cell_type": "code",
   "execution_count": 140,
   "id": "a67342fd",
   "metadata": {},
   "outputs": [
    {
     "data": {
      "text/plain": [
       "(1200, 49)"
      ]
     },
     "execution_count": 140,
     "metadata": {},
     "output_type": "execute_result"
    }
   ],
   "source": [
    "df_up.shape"
   ]
  },
  {
   "cell_type": "code",
   "execution_count": 141,
   "id": "afb3a2a2",
   "metadata": {},
   "outputs": [
    {
     "data": {
      "text/html": [
       "<div>\n",
       "<style scoped>\n",
       "    .dataframe tbody tr th:only-of-type {\n",
       "        vertical-align: middle;\n",
       "    }\n",
       "\n",
       "    .dataframe tbody tr th {\n",
       "        vertical-align: top;\n",
       "    }\n",
       "\n",
       "    .dataframe thead th {\n",
       "        text-align: right;\n",
       "    }\n",
       "</style>\n",
       "<table border=\"1\" class=\"dataframe\">\n",
       "  <thead>\n",
       "    <tr style=\"text-align: right;\">\n",
       "      <th></th>\n",
       "      <th>status</th>\n",
       "      <th>checkin_acc_A12</th>\n",
       "      <th>checkin_acc_A13</th>\n",
       "      <th>checkin_acc_A14</th>\n",
       "      <th>credit_history_A31</th>\n",
       "      <th>credit_history_A32</th>\n",
       "      <th>credit_history_A33</th>\n",
       "      <th>credit_history_A34</th>\n",
       "      <th>purpose_A41</th>\n",
       "      <th>purpose_A410</th>\n",
       "      <th>...</th>\n",
       "      <th>job_A174</th>\n",
       "      <th>telephone_A192</th>\n",
       "      <th>foreign_worker_A202</th>\n",
       "      <th>duration</th>\n",
       "      <th>amount</th>\n",
       "      <th>inst_rate</th>\n",
       "      <th>residing_since</th>\n",
       "      <th>age</th>\n",
       "      <th>num_credits</th>\n",
       "      <th>dependents</th>\n",
       "    </tr>\n",
       "  </thead>\n",
       "  <tbody>\n",
       "    <tr>\n",
       "      <th>0</th>\n",
       "      <td>1</td>\n",
       "      <td>0</td>\n",
       "      <td>0</td>\n",
       "      <td>0</td>\n",
       "      <td>0</td>\n",
       "      <td>0</td>\n",
       "      <td>0</td>\n",
       "      <td>1</td>\n",
       "      <td>0</td>\n",
       "      <td>0</td>\n",
       "      <td>...</td>\n",
       "      <td>0</td>\n",
       "      <td>1</td>\n",
       "      <td>0</td>\n",
       "      <td>9</td>\n",
       "      <td>1754</td>\n",
       "      <td>6</td>\n",
       "      <td>6</td>\n",
       "      <td>101</td>\n",
       "      <td>3</td>\n",
       "      <td>2</td>\n",
       "    </tr>\n",
       "    <tr>\n",
       "      <th>1</th>\n",
       "      <td>1</td>\n",
       "      <td>0</td>\n",
       "      <td>0</td>\n",
       "      <td>1</td>\n",
       "      <td>0</td>\n",
       "      <td>0</td>\n",
       "      <td>0</td>\n",
       "      <td>1</td>\n",
       "      <td>0</td>\n",
       "      <td>0</td>\n",
       "      <td>...</td>\n",
       "      <td>0</td>\n",
       "      <td>0</td>\n",
       "      <td>0</td>\n",
       "      <td>18</td>\n",
       "      <td>3144</td>\n",
       "      <td>3</td>\n",
       "      <td>5</td>\n",
       "      <td>74</td>\n",
       "      <td>2</td>\n",
       "      <td>3</td>\n",
       "    </tr>\n",
       "    <tr>\n",
       "      <th>2</th>\n",
       "      <td>1</td>\n",
       "      <td>0</td>\n",
       "      <td>0</td>\n",
       "      <td>0</td>\n",
       "      <td>0</td>\n",
       "      <td>1</td>\n",
       "      <td>0</td>\n",
       "      <td>0</td>\n",
       "      <td>0</td>\n",
       "      <td>0</td>\n",
       "      <td>...</td>\n",
       "      <td>0</td>\n",
       "      <td>0</td>\n",
       "      <td>0</td>\n",
       "      <td>63</td>\n",
       "      <td>11823</td>\n",
       "      <td>3</td>\n",
       "      <td>6</td>\n",
       "      <td>68</td>\n",
       "      <td>2</td>\n",
       "      <td>3</td>\n",
       "    </tr>\n",
       "    <tr>\n",
       "      <th>3</th>\n",
       "      <td>1</td>\n",
       "      <td>0</td>\n",
       "      <td>0</td>\n",
       "      <td>1</td>\n",
       "      <td>0</td>\n",
       "      <td>1</td>\n",
       "      <td>0</td>\n",
       "      <td>0</td>\n",
       "      <td>0</td>\n",
       "      <td>0</td>\n",
       "      <td>...</td>\n",
       "      <td>0</td>\n",
       "      <td>1</td>\n",
       "      <td>0</td>\n",
       "      <td>54</td>\n",
       "      <td>13583</td>\n",
       "      <td>3</td>\n",
       "      <td>6</td>\n",
       "      <td>53</td>\n",
       "      <td>2</td>\n",
       "      <td>3</td>\n",
       "    </tr>\n",
       "    <tr>\n",
       "      <th>4</th>\n",
       "      <td>1</td>\n",
       "      <td>0</td>\n",
       "      <td>0</td>\n",
       "      <td>1</td>\n",
       "      <td>0</td>\n",
       "      <td>1</td>\n",
       "      <td>0</td>\n",
       "      <td>0</td>\n",
       "      <td>0</td>\n",
       "      <td>0</td>\n",
       "      <td>...</td>\n",
       "      <td>0</td>\n",
       "      <td>0</td>\n",
       "      <td>0</td>\n",
       "      <td>36</td>\n",
       "      <td>4253</td>\n",
       "      <td>5</td>\n",
       "      <td>6</td>\n",
       "      <td>80</td>\n",
       "      <td>2</td>\n",
       "      <td>2</td>\n",
       "    </tr>\n",
       "  </tbody>\n",
       "</table>\n",
       "<p>5 rows × 49 columns</p>\n",
       "</div>"
      ],
      "text/plain": [
       "  status  checkin_acc_A12  checkin_acc_A13  checkin_acc_A14  \\\n",
       "0      1                0                0                0   \n",
       "1      1                0                0                1   \n",
       "2      1                0                0                0   \n",
       "3      1                0                0                1   \n",
       "4      1                0                0                1   \n",
       "\n",
       "   credit_history_A31  credit_history_A32  credit_history_A33  \\\n",
       "0                   0                   0                   0   \n",
       "1                   0                   0                   0   \n",
       "2                   0                   1                   0   \n",
       "3                   0                   1                   0   \n",
       "4                   0                   1                   0   \n",
       "\n",
       "   credit_history_A34  purpose_A41  purpose_A410  ...  job_A174  \\\n",
       "0                   1            0             0  ...         0   \n",
       "1                   1            0             0  ...         0   \n",
       "2                   0            0             0  ...         0   \n",
       "3                   0            0             0  ...         0   \n",
       "4                   0            0             0  ...         0   \n",
       "\n",
       "   telephone_A192  foreign_worker_A202  duration  amount  inst_rate  \\\n",
       "0               1                    0         9    1754          6   \n",
       "1               0                    0        18    3144          3   \n",
       "2               0                    0        63   11823          3   \n",
       "3               1                    0        54   13583          3   \n",
       "4               0                    0        36    4253          5   \n",
       "\n",
       "   residing_since  age  num_credits  dependents  \n",
       "0               6  101            3           2  \n",
       "1               5   74            2           3  \n",
       "2               6   68            2           3  \n",
       "3               6   53            2           3  \n",
       "4               6   80            2           2  \n",
       "\n",
       "[5 rows x 49 columns]"
      ]
     },
     "execution_count": 141,
     "metadata": {},
     "output_type": "execute_result"
    }
   ],
   "source": [
    "df_up.head()"
   ]
  },
  {
   "cell_type": "code",
   "execution_count": 142,
   "id": "fd3fb00f",
   "metadata": {},
   "outputs": [],
   "source": [
    "x = df_up.drop(columns = ['status'])\n",
    "y = df_up.status\n",
    "y = y.astype('int')\n",
    "xtrain,xtest,ytrain,ytest = train_test_split(x,y,test_size = 0.30,random_state = 123,stratify = y)\n",
    "xtrain_s = pd.DataFrame(MM.fit_transform(xtrain),columns = xtrain.columns)\n",
    "xtest_s = pd.DataFrame(MM.fit_transform(xtest),columns = xtest.columns)\n"
   ]
  },
  {
   "cell_type": "code",
   "execution_count": 143,
   "id": "c67f27f1",
   "metadata": {},
   "outputs": [
    {
     "name": "stdout",
     "output_type": "stream",
     "text": [
      "[16:17:26] WARNING: ..\\src\\learner.cc:1115: Starting in XGBoost 1.3.0, the default evaluation metric used with the objective 'binary:logistic' was changed from 'error' to 'logloss'. Explicitly set eval_metric if you'd like to restore the old behavior.\n",
      "Classification Report \n",
      "              precision    recall  f1-score   support\n",
      "\n",
      "           1       0.84      0.79      0.82       210\n",
      "           2       0.73      0.79      0.76       150\n",
      "\n",
      "    accuracy                           0.79       360\n",
      "   macro avg       0.79      0.79      0.79       360\n",
      "weighted avg       0.80      0.79      0.79       360\n",
      "\n",
      "    Consision Matrix    \n"
     ]
    },
    {
     "data": {
      "image/png": "[encoded data removed]",
      "text/plain": [
       "<Figure size 432x288 with 1 Axes>"
      ]
     },
     "metadata": {
      "needs_background": "light"
     },
     "output_type": "display_data"
    },
    {
     "name": "stdout",
     "output_type": "stream",
     "text": [
      "\n",
      "Cohen Kappa Score is  0.5766698024459078\n"
     ]
    }
   ],
   "source": [
    "xgb_cl = xgb.XGBClassifier()\n",
    "XG_mod = xgb_cl.fit(xtrain_s,ytrain)\n",
    "plot_metrics(xtest_s,ytest,XG_mod)\n"
   ]
  },
  {
   "cell_type": "code",
   "execution_count": 144,
   "id": "d66f53dd",
   "metadata": {},
   "outputs": [
    {
     "name": "stdout",
     "output_type": "stream",
     "text": [
      "Classification Report \n",
      "              precision    recall  f1-score   support\n",
      "\n",
      "           1       0.83      0.86      0.85       210\n",
      "           2       0.80      0.75      0.77       150\n",
      "\n",
      "    accuracy                           0.82       360\n",
      "   macro avg       0.81      0.81      0.81       360\n",
      "weighted avg       0.82      0.82      0.82       360\n",
      "\n",
      "    Consision Matrix    \n"
     ]
    },
    {
     "data": {
      "image/png": "[encoded data removed]",
      "text/plain": [
       "<Figure size 432x288 with 1 Axes>"
      ]
     },
     "metadata": {
      "needs_background": "light"
     },
     "output_type": "display_data"
    },
    {
     "name": "stdout",
     "output_type": "stream",
     "text": [
      "\n",
      "Cohen Kappa Score is  0.6199616122840691\n"
     ]
    }
   ],
   "source": [
    "RF = RandomForestClassifier()\n",
    "RF_mod = RF.fit(xtrain_s,ytrain)\n",
    "plot_metrics(xtest_s,ytest,RF_mod)"
   ]
  },
  {
   "cell_type": "markdown",
   "id": "2533ac07",
   "metadata": {},
   "source": [
    "#### Upsampling using SMOT"
   ]
  },
  {
   "cell_type": "code",
   "execution_count": 146,
   "id": "3397df56",
   "metadata": {},
   "outputs": [
    {
     "name": "stdout",
     "output_type": "stream",
     "text": [
      "[16:18:03] WARNING: ..\\src\\learner.cc:1115: Starting in XGBoost 1.3.0, the default evaluation metric used with the objective 'binary:logistic' was changed from 'error' to 'logloss'. Explicitly set eval_metric if you'd like to restore the old behavior.\n",
      "Classification Report \n",
      "              precision    recall  f1-score   support\n",
      "\n",
      "           1       0.84      0.77      0.80       210\n",
      "           2       0.71      0.79      0.75       150\n",
      "\n",
      "    accuracy                           0.78       360\n",
      "   macro avg       0.77      0.78      0.77       360\n",
      "weighted avg       0.78      0.78      0.78       360\n",
      "\n",
      "    Consision Matrix    \n"
     ]
    },
    {
     "data": {
      "image/png": "[encoded data removed]",
      "text/plain": [
       "<Figure size 432x288 with 1 Axes>"
      ]
     },
     "metadata": {
      "needs_background": "light"
     },
     "output_type": "display_data"
    },
    {
     "name": "stdout",
     "output_type": "stream",
     "text": [
      "\n",
      "Cohen Kappa Score is  0.550561797752809\n"
     ]
    }
   ],
   "source": [
    "from imblearn.over_sampling import SMOTE\n",
    "sm = SMOTE(random_state=27) \n",
    "X_final_sm, Y_final_sm = sm.fit_resample(xtrain_s, ytrain)  \n",
    "smote_xgb =xgb.XGBClassifier().fit(X_final_sm, Y_final_sm)\n",
    "plot_metrics(xtest_s,ytest,smote_xgb)\n"
   ]
  },
  {
   "cell_type": "code",
   "execution_count": 147,
   "id": "96eeb681",
   "metadata": {},
   "outputs": [
    {
     "data": {
      "text/plain": [
       "88.0"
      ]
     },
     "execution_count": 147,
     "metadata": {},
     "output_type": "execute_result"
    }
   ],
   "source": [
    "accuracy_2 = (132/(132+18))*100\n",
    "accuracy_2"
   ]
  },
  {
   "cell_type": "raw",
   "id": "b9ded421",
   "metadata": {},
   "source": [
    "Reasons to Choose the above model as final model.\n",
    "~ So far the upsampling smote technique gave the best recall and precision score for status=2(defaulters) so this can be considered as our final model.\n",
    "~ Our main aim here is to correctly classify the defaulters ,with 88 % accuracy we can accurately detect the people in advanve who are likely to default and take appropriate measures.\n",
    "~ As we know , even in real life scenarios the imbalance in the data is quite normal.Therefore going for a model with a high accuracy will be biased based on only that dataset.\n",
    "~ Hence creating a model that could  if not 100 % righly but majorly  predict the production dynamic data for defaulters shoud be used."
   ]
  },
  {
   "cell_type": "markdown",
   "id": "304e588d",
   "metadata": {},
   "source": [
    "##### FINDING OUT THE IMPORTANT FEATURES "
   ]
  },
  {
   "cell_type": "code",
   "execution_count": 175,
   "id": "f2c6141d",
   "metadata": {},
   "outputs": [],
   "source": [
    "imp_features = pd.DataFrame({'Features':xtrain_s.columns,\n",
    "                            'Importances':smote_xgb.feature_importances_})\n",
    "imp_features= imp_features.sort_values('Importances',ascending = False)\n",
    "inpp = imp_features.head(20)"
   ]
  },
  {
   "cell_type": "code",
   "execution_count": 176,
   "id": "5c24a0ed",
   "metadata": {},
   "outputs": [
    {
     "data": {
      "image/png": "[encoded data removed]",
      "text/plain": [
       "<Figure size 432x288 with 1 Axes>"
      ]
     },
     "metadata": {
      "needs_background": "light"
     },
     "output_type": "display_data"
    }
   ],
   "source": [
    "sns.barplot(data = inpp ,x = 'Importances',y = 'Features')\n",
    "plt.show()"
   ]
  },
  {
   "cell_type": "code",
   "execution_count": 153,
   "id": "9eb114a3",
   "metadata": {},
   "outputs": [],
   "source": [
    "## The above are the top 20 features that have an influence in deciding the likelihood of a person to default"
   ]
  },
  {
   "cell_type": "code",
   "execution_count": 177,
   "id": "21489325",
   "metadata": {},
   "outputs": [
    {
     "data": {
      "text/html": [
       "<div>\n",
       "<style scoped>\n",
       "    .dataframe tbody tr th:only-of-type {\n",
       "        vertical-align: middle;\n",
       "    }\n",
       "\n",
       "    .dataframe tbody tr th {\n",
       "        vertical-align: top;\n",
       "    }\n",
       "\n",
       "    .dataframe thead th {\n",
       "        text-align: right;\n",
       "    }\n",
       "</style>\n",
       "<table border=\"1\" class=\"dataframe\">\n",
       "  <thead>\n",
       "    <tr style=\"text-align: right;\">\n",
       "      <th></th>\n",
       "      <th>Features</th>\n",
       "      <th>Importances</th>\n",
       "    </tr>\n",
       "  </thead>\n",
       "  <tbody>\n",
       "    <tr>\n",
       "      <th>2</th>\n",
       "      <td>checkin_acc_A14</td>\n",
       "      <td>0.150534</td>\n",
       "    </tr>\n",
       "    <tr>\n",
       "      <th>28</th>\n",
       "      <td>other_debtors_A103</td>\n",
       "      <td>0.050055</td>\n",
       "    </tr>\n",
       "    <tr>\n",
       "      <th>18</th>\n",
       "      <td>svaing_acc_A64</td>\n",
       "      <td>0.048809</td>\n",
       "    </tr>\n",
       "    <tr>\n",
       "      <th>31</th>\n",
       "      <td>property_A124</td>\n",
       "      <td>0.048685</td>\n",
       "    </tr>\n",
       "    <tr>\n",
       "      <th>19</th>\n",
       "      <td>svaing_acc_A65</td>\n",
       "      <td>0.034874</td>\n",
       "    </tr>\n",
       "    <tr>\n",
       "      <th>15</th>\n",
       "      <td>purpose_A49</td>\n",
       "      <td>0.032449</td>\n",
       "    </tr>\n",
       "    <tr>\n",
       "      <th>34</th>\n",
       "      <td>housing_A152</td>\n",
       "      <td>0.031973</td>\n",
       "    </tr>\n",
       "    <tr>\n",
       "      <th>22</th>\n",
       "      <td>present_emp_since_A74</td>\n",
       "      <td>0.031329</td>\n",
       "    </tr>\n",
       "    <tr>\n",
       "      <th>6</th>\n",
       "      <td>credit_history_A34</td>\n",
       "      <td>0.027281</td>\n",
       "    </tr>\n",
       "    <tr>\n",
       "      <th>41</th>\n",
       "      <td>duration</td>\n",
       "      <td>0.023974</td>\n",
       "    </tr>\n",
       "    <tr>\n",
       "      <th>40</th>\n",
       "      <td>foreign_worker_A202</td>\n",
       "      <td>0.022866</td>\n",
       "    </tr>\n",
       "    <tr>\n",
       "      <th>25</th>\n",
       "      <td>personal_status_A93</td>\n",
       "      <td>0.022316</td>\n",
       "    </tr>\n",
       "    <tr>\n",
       "      <th>36</th>\n",
       "      <td>job_A172</td>\n",
       "      <td>0.020853</td>\n",
       "    </tr>\n",
       "    <tr>\n",
       "      <th>38</th>\n",
       "      <td>job_A174</td>\n",
       "      <td>0.020483</td>\n",
       "    </tr>\n",
       "    <tr>\n",
       "      <th>29</th>\n",
       "      <td>property_A122</td>\n",
       "      <td>0.020390</td>\n",
       "    </tr>\n",
       "    <tr>\n",
       "      <th>12</th>\n",
       "      <td>purpose_A45</td>\n",
       "      <td>0.020013</td>\n",
       "    </tr>\n",
       "    <tr>\n",
       "      <th>17</th>\n",
       "      <td>svaing_acc_A63</td>\n",
       "      <td>0.019691</td>\n",
       "    </tr>\n",
       "    <tr>\n",
       "      <th>1</th>\n",
       "      <td>checkin_acc_A13</td>\n",
       "      <td>0.019503</td>\n",
       "    </tr>\n",
       "    <tr>\n",
       "      <th>20</th>\n",
       "      <td>present_emp_since_A72</td>\n",
       "      <td>0.019389</td>\n",
       "    </tr>\n",
       "    <tr>\n",
       "      <th>47</th>\n",
       "      <td>dependents</td>\n",
       "      <td>0.019067</td>\n",
       "    </tr>\n",
       "  </tbody>\n",
       "</table>\n",
       "</div>"
      ],
      "text/plain": [
       "                 Features  Importances\n",
       "2         checkin_acc_A14     0.150534\n",
       "28     other_debtors_A103     0.050055\n",
       "18         svaing_acc_A64     0.048809\n",
       "31          property_A124     0.048685\n",
       "19         svaing_acc_A65     0.034874\n",
       "15            purpose_A49     0.032449\n",
       "34           housing_A152     0.031973\n",
       "22  present_emp_since_A74     0.031329\n",
       "6      credit_history_A34     0.027281\n",
       "41               duration     0.023974\n",
       "40    foreign_worker_A202     0.022866\n",
       "25    personal_status_A93     0.022316\n",
       "36               job_A172     0.020853\n",
       "38               job_A174     0.020483\n",
       "29          property_A122     0.020390\n",
       "12            purpose_A45     0.020013\n",
       "17         svaing_acc_A63     0.019691\n",
       "1         checkin_acc_A13     0.019503\n",
       "20  present_emp_since_A72     0.019389\n",
       "47             dependents     0.019067"
      ]
     },
     "execution_count": 177,
     "metadata": {},
     "output_type": "execute_result"
    }
   ],
   "source": [
    "inpp"
   ]
  },
  {
   "cell_type": "code",
   "execution_count": null,
   "id": "2acbbb41",
   "metadata": {},
   "outputs": [],
   "source": [
    "### Further Analysis of these variables"
   ]
  },
  {
   "cell_type": "code",
   "execution_count": 192,
   "id": "a436b216",
   "metadata": {},
   "outputs": [
    {
     "data": {
      "image/png": "[encoded data removed]",
      "text/plain": [
       "<Figure size 432x288 with 1 Axes>"
      ]
     },
     "metadata": {
      "needs_background": "light"
     },
     "output_type": "display_data"
    },
    {
     "data": {
      "image/png": "[encoded data removed]",
      "text/plain": [
       "<Figure size 432x288 with 1 Axes>"
      ]
     },
     "metadata": {
      "needs_background": "light"
     },
     "output_type": "display_data"
    },
    {
     "data": {
      "image/png": "[encoded data removed]",
      "text/plain": [
       "<Figure size 432x288 with 1 Axes>"
      ]
     },
     "metadata": {
      "needs_background": "light"
     },
     "output_type": "display_data"
    },
    {
     "data": {
      "image/png": "[encoded data removed]",
      "text/plain": [
       "<Figure size 432x288 with 1 Axes>"
      ]
     },
     "metadata": {
      "needs_background": "light"
     },
     "output_type": "display_data"
    },
    {
     "data": {
      "image/png": "[encoded data removed]",
      "text/plain": [
       "<Figure size 432x288 with 1 Axes>"
      ]
     },
     "metadata": {
      "needs_background": "light"
     },
     "output_type": "display_data"
    },
    {
     "data": {
      "image/png": "[encoded data removed]",
      "text/plain": [
       "<Figure size 432x288 with 1 Axes>"
      ]
     },
     "metadata": {
      "needs_background": "light"
     },
     "output_type": "display_data"
    },
    {
     "data": {
      "image/png": "[encoded data removed]",
      "text/plain": [
       "<Figure size 432x288 with 1 Axes>"
      ]
     },
     "metadata": {
      "needs_background": "light"
     },
     "output_type": "display_data"
    },
    {
     "data": {
      "image/png": "[encoded data removed]",
      "text/plain": [
       "<Figure size 432x288 with 1 Axes>"
      ]
     },
     "metadata": {
      "needs_background": "light"
     },
     "output_type": "display_data"
    },
    {
     "data": {
      "image/png": "[encoded data removed]",
      "text/plain": [
       "<Figure size 432x288 with 1 Axes>"
      ]
     },
     "metadata": {
      "needs_background": "light"
     },
     "output_type": "display_data"
    },
    {
     "data": {
      "image/png": "[encoded data removed]",
      "text/plain": [
       "<Figure size 432x288 with 1 Axes>"
      ]
     },
     "metadata": {
      "needs_background": "light"
     },
     "output_type": "display_data"
    },
    {
     "data": {
      "image/png": "[encoded data removed]",
      "text/plain": [
       "<Figure size 432x288 with 1 Axes>"
      ]
     },
     "metadata": {
      "needs_background": "light"
     },
     "output_type": "display_data"
    },
    {
     "data": {
      "image/png": "[encoded data removed]",
      "text/plain": [
       "<Figure size 432x288 with 1 Axes>"
      ]
     },
     "metadata": {
      "needs_background": "light"
     },
     "output_type": "display_data"
    },
    {
     "data": {
      "image/png": "[encoded data removed]",
      "text/plain": [
       "<Figure size 432x288 with 1 Axes>"
      ]
     },
     "metadata": {
      "needs_background": "light"
     },
     "output_type": "display_data"
    },
    {
     "data": {
      "image/png": "[encoded data removed]",
      "text/plain": [
       "<Figure size 432x288 with 1 Axes>"
      ]
     },
     "metadata": {
      "needs_background": "light"
     },
     "output_type": "display_data"
    },
    {
     "data": {
      "image/png": "[encoded data removed]",
      "text/plain": [
       "<Figure size 432x288 with 1 Axes>"
      ]
     },
     "metadata": {
      "needs_background": "light"
     },
     "output_type": "display_data"
    },
    {
     "data": {
      "image/png": "[encoded data removed]",
      "text/plain": [
       "<Figure size 432x288 with 1 Axes>"
      ]
     },
     "metadata": {
      "needs_background": "light"
     },
     "output_type": "display_data"
    },
    {
     "data": {
      "image/png": "[encoded data removed]",
      "text/plain": [
       "<Figure size 432x288 with 1 Axes>"
      ]
     },
     "metadata": {
      "needs_background": "light"
     },
     "output_type": "display_data"
    },
    {
     "data": {
      "image/png": "[encoded data removed]",
      "text/plain": [
       "<Figure size 432x288 with 1 Axes>"
      ]
     },
     "metadata": {
      "needs_background": "light"
     },
     "output_type": "display_data"
    }
   ],
   "source": [
    "for i in inpp['Features'].unique():\n",
    "    if df_new[i].dtype != 'int64':\n",
    "        x = pd.crosstab(df_new['status'],df_new[i])\n",
    "        x.plot(kind = 'bar')\n",
    "        plt.xlabel('status')\n",
    "        plt.ylabel(i)\n",
    "        plt.title(i)\n",
    "    "
   ]
  },
  {
   "cell_type": "code",
   "execution_count": 198,
   "id": "73bf6617",
   "metadata": {},
   "outputs": [
    {
     "data": {
      "image/png": "[encoded data removed]",
      "text/plain": [
       "<Figure size 432x288 with 1 Axes>"
      ]
     },
     "metadata": {
      "needs_background": "light"
     },
     "output_type": "display_data"
    }
   ],
   "source": [
    "sns.boxplot(df['status'],df['duration'])\n",
    "plt.show()"
   ]
  },
  {
   "cell_type": "raw",
   "id": "a45d45ae",
   "metadata": {},
   "source": [
    "## Inference ##\n",
    "\n",
    "1)People with no checkin_acc_A14','other_debtors_A103','svaing_acc_A64','property_A124','svaing_acc_A65','purpose_A49','present_emp_since_A74','credit_history_A34',foreign_worker_A202','personal_status_A93','job_A172','job_A174','property_A122','purpose_A45','svaing_acc_A63','checkin_acc_A13','present_emp_since_A72' and with 'housing_A152' as loan type are more likely to default. \n",
    "\n",
    "2) People who have to pay during longer duration and more dependents are likely to default.\n"
   ]
  }
 ],
 "metadata": {
  "kernelspec": {
   "display_name": "Python 3 (ipykernel)",
   "language": "python",
   "name": "python3"
  },
  "language_info": {
   "codemirror_mode": {
    "name": "ipython",
    "version": 3
   },
   "file_extension": ".py",
   "mimetype": "text/x-python",
   "name": "python",
   "nbconvert_exporter": "python",
   "pygments_lexer": "ipython3",
   "version": "3.9.7"
  }
 },
 "nbformat": 4,
 "nbformat_minor": 5
}
